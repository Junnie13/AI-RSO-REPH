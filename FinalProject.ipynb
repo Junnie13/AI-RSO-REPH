{
  "cells": [
    {
      "cell_type": "markdown",
      "metadata": {
        "id": "LJiTJX0Aiehw"
      },
      "source": [
        "# Cross Validation"
      ]
    },
    {
      "cell_type": "markdown",
      "metadata": {
        "id": "t_-m9_Poij1F"
      },
      "source": [
        "### Import Libraries"
      ]
    },
    {
      "cell_type": "code",
      "execution_count": 1,
      "metadata": {
        "id": "7SRWcMAZg0s6"
      },
      "outputs": [],
      "source": [
        "#ignore warnings\n",
        "import warnings\n",
        "warnings.filterwarnings('ignore')\n"
      ]
    },
    {
      "cell_type": "markdown",
      "metadata": {
        "id": "5XDW0SRFi7GS"
      },
      "source": [
        "### Standard Libraries"
      ]
    },
    {
      "cell_type": "code",
      "execution_count": 2,
      "metadata": {
        "id": "vWblpDT2i826"
      },
      "outputs": [],
      "source": [
        "import numpy as np\n",
        "import pandas as pd\n",
        "import matplotlib.pyplot as plt\n",
        "import seaborn as sns\n",
        "\n",
        "\n",
        "# Set Options for display\n",
        "pd.options.display.float_format = '{:.2f}'.format\n",
        "\n",
        "sns.set_style(\"whitegrid\")\n",
        "sns.set_context(\"paper\")\n",
        "\n",
        "%matplotlib inline"
      ]
    },
    {
      "cell_type": "markdown",
      "metadata": {
        "id": "-6UnTY2njGB8"
      },
      "source": [
        "### Additional Libraries"
      ]
    },
    {
      "cell_type": "code",
      "execution_count": 3,
      "metadata": {
        "id": "UZHbsNCwjINo"
      },
      "outputs": [],
      "source": [
        "#Importing the Tree and Metrics Module\n",
        "from sklearn import metrics\n",
        "\n",
        "from sklearn.tree import DecisionTreeClassifier\n",
        "\n",
        "#Train-Test Split\n",
        "from sklearn.model_selection import train_test_split\n",
        "\n",
        "#Standard Scaler\n",
        "from sklearn.preprocessing import StandardScaler\n",
        "\n",
        "#Classification Metrics\n",
        "from sklearn.metrics import confusion_matrix, classification_report, accuracy_score"
      ]
    },
    {
      "cell_type": "markdown",
      "metadata": {
        "id": "tCuOAy2-jMiC"
      },
      "source": [
        "### Load and Explore the Dataset"
      ]
    },
    {
      "cell_type": "code",
      "execution_count": 4,
      "metadata": {
        "colab": {
          "base_uri": "https://localhost:8080/"
        },
        "id": "ityKIH89jRan",
        "outputId": "e7e49d2f-c108-4aa8-d40e-c748036d1453"
      },
      "outputs": [],
      "source": [
        "# from google.colab import drive\n",
        "# drive.mount('/content/drive')"
      ]
    },
    {
      "cell_type": "code",
      "execution_count": 5,
      "metadata": {
        "id": "tGBPMWbAjvhD"
      },
      "outputs": [],
      "source": [
        "# Load the dataset\n",
        "\n",
        "filepath = \"dataset.xlsx\"\n",
        "df = pd.read_excel(filepath)"
      ]
    },
    {
      "cell_type": "code",
      "execution_count": 6,
      "metadata": {
        "colab": {
          "base_uri": "https://localhost:8080/",
          "height": 238
        },
        "id": "fKJHNEJGky9j",
        "outputId": "36e81b24-1dea-45a0-d5b6-c7ec051f1a75"
      },
      "outputs": [
        {
          "data": {
            "application/vnd.microsoft.datawrangler.viewer.v0+json": {
              "columns": [
                {
                  "name": "index",
                  "rawType": "int64",
                  "type": "integer"
                },
                {
                  "name": "Age",
                  "rawType": "int64",
                  "type": "integer"
                },
                {
                  "name": "Attrition",
                  "rawType": "object",
                  "type": "string"
                },
                {
                  "name": "BusinessTravel",
                  "rawType": "object",
                  "type": "string"
                },
                {
                  "name": "Department",
                  "rawType": "object",
                  "type": "string"
                },
                {
                  "name": "DistanceFromHome",
                  "rawType": "int64",
                  "type": "integer"
                },
                {
                  "name": "Education",
                  "rawType": "int64",
                  "type": "integer"
                },
                {
                  "name": "EducationField",
                  "rawType": "object",
                  "type": "string"
                },
                {
                  "name": "EnvironmentSatisfaction",
                  "rawType": "int64",
                  "type": "integer"
                },
                {
                  "name": "Gender",
                  "rawType": "object",
                  "type": "string"
                },
                {
                  "name": "JobInvolvement",
                  "rawType": "int64",
                  "type": "integer"
                },
                {
                  "name": "JobLevel",
                  "rawType": "int64",
                  "type": "integer"
                },
                {
                  "name": "JobRole",
                  "rawType": "object",
                  "type": "string"
                },
                {
                  "name": "JobSatisfaction",
                  "rawType": "int64",
                  "type": "integer"
                },
                {
                  "name": "MaritalStatus",
                  "rawType": "object",
                  "type": "string"
                },
                {
                  "name": "MonthlyIncome",
                  "rawType": "int64",
                  "type": "integer"
                },
                {
                  "name": "NumCompaniesWorked",
                  "rawType": "int64",
                  "type": "integer"
                },
                {
                  "name": "OverTime",
                  "rawType": "object",
                  "type": "string"
                },
                {
                  "name": "PercentSalaryHike",
                  "rawType": "int64",
                  "type": "integer"
                },
                {
                  "name": "PerformanceRating",
                  "rawType": "int64",
                  "type": "integer"
                },
                {
                  "name": "RelationshipSatisfaction",
                  "rawType": "int64",
                  "type": "integer"
                },
                {
                  "name": "TotalWorkingYears",
                  "rawType": "int64",
                  "type": "integer"
                },
                {
                  "name": "TrainingTimesLastYear",
                  "rawType": "int64",
                  "type": "integer"
                },
                {
                  "name": "WorkLifeBalance",
                  "rawType": "int64",
                  "type": "integer"
                },
                {
                  "name": "YearsAtCompany",
                  "rawType": "int64",
                  "type": "integer"
                },
                {
                  "name": "YearsInCurrentRole",
                  "rawType": "int64",
                  "type": "integer"
                },
                {
                  "name": "YearsSinceLastPromotion",
                  "rawType": "int64",
                  "type": "integer"
                },
                {
                  "name": "YearsWithCurrManager",
                  "rawType": "int64",
                  "type": "integer"
                },
                {
                  "name": "PTOs Utilized",
                  "rawType": "int64",
                  "type": "integer"
                }
              ],
              "ref": "129381bb-027e-4749-810c-ae69b6df595b",
              "rows": [
                [
                  "0",
                  "41",
                  "Yes",
                  "Travel_Rarely",
                  "Sales",
                  "1",
                  "2",
                  "Life Sciences",
                  "2",
                  "Female",
                  "3",
                  "2",
                  "Sales Executive",
                  "4",
                  "Single",
                  "5993",
                  "8",
                  "Yes",
                  "11",
                  "3",
                  "1",
                  "8",
                  "0",
                  "1",
                  "6",
                  "4",
                  "0",
                  "5",
                  "16"
                ],
                [
                  "1",
                  "49",
                  "No",
                  "Travel_Frequently",
                  "Research & Development",
                  "8",
                  "1",
                  "Life Sciences",
                  "3",
                  "Male",
                  "2",
                  "2",
                  "Research Scientist",
                  "2",
                  "Married",
                  "5130",
                  "1",
                  "No",
                  "23",
                  "4",
                  "4",
                  "10",
                  "3",
                  "3",
                  "10",
                  "7",
                  "1",
                  "7",
                  "10"
                ],
                [
                  "2",
                  "37",
                  "Yes",
                  "Travel_Rarely",
                  "Research & Development",
                  "2",
                  "2",
                  "Other",
                  "4",
                  "Male",
                  "2",
                  "1",
                  "Laboratory Technician",
                  "3",
                  "Single",
                  "2090",
                  "6",
                  "Yes",
                  "15",
                  "3",
                  "2",
                  "7",
                  "3",
                  "3",
                  "0",
                  "0",
                  "0",
                  "0",
                  "1"
                ],
                [
                  "3",
                  "33",
                  "No",
                  "Travel_Frequently",
                  "Research & Development",
                  "3",
                  "4",
                  "Life Sciences",
                  "4",
                  "Female",
                  "3",
                  "1",
                  "Research Scientist",
                  "3",
                  "Married",
                  "2909",
                  "1",
                  "Yes",
                  "11",
                  "3",
                  "3",
                  "8",
                  "3",
                  "3",
                  "8",
                  "7",
                  "3",
                  "0",
                  "2"
                ],
                [
                  "4",
                  "27",
                  "No",
                  "Travel_Rarely",
                  "Research & Development",
                  "2",
                  "1",
                  "Medical",
                  "1",
                  "Male",
                  "3",
                  "1",
                  "Laboratory Technician",
                  "2",
                  "Married",
                  "3468",
                  "9",
                  "No",
                  "12",
                  "3",
                  "4",
                  "6",
                  "3",
                  "3",
                  "2",
                  "2",
                  "2",
                  "2",
                  "11"
                ]
              ],
              "shape": {
                "columns": 28,
                "rows": 5
              }
            },
            "text/html": [
              "<div>\n",
              "<style scoped>\n",
              "    .dataframe tbody tr th:only-of-type {\n",
              "        vertical-align: middle;\n",
              "    }\n",
              "\n",
              "    .dataframe tbody tr th {\n",
              "        vertical-align: top;\n",
              "    }\n",
              "\n",
              "    .dataframe thead th {\n",
              "        text-align: right;\n",
              "    }\n",
              "</style>\n",
              "<table border=\"1\" class=\"dataframe\">\n",
              "  <thead>\n",
              "    <tr style=\"text-align: right;\">\n",
              "      <th></th>\n",
              "      <th>Age</th>\n",
              "      <th>Attrition</th>\n",
              "      <th>BusinessTravel</th>\n",
              "      <th>Department</th>\n",
              "      <th>DistanceFromHome</th>\n",
              "      <th>Education</th>\n",
              "      <th>EducationField</th>\n",
              "      <th>EnvironmentSatisfaction</th>\n",
              "      <th>Gender</th>\n",
              "      <th>JobInvolvement</th>\n",
              "      <th>...</th>\n",
              "      <th>PerformanceRating</th>\n",
              "      <th>RelationshipSatisfaction</th>\n",
              "      <th>TotalWorkingYears</th>\n",
              "      <th>TrainingTimesLastYear</th>\n",
              "      <th>WorkLifeBalance</th>\n",
              "      <th>YearsAtCompany</th>\n",
              "      <th>YearsInCurrentRole</th>\n",
              "      <th>YearsSinceLastPromotion</th>\n",
              "      <th>YearsWithCurrManager</th>\n",
              "      <th>PTOs Utilized</th>\n",
              "    </tr>\n",
              "  </thead>\n",
              "  <tbody>\n",
              "    <tr>\n",
              "      <th>0</th>\n",
              "      <td>41</td>\n",
              "      <td>Yes</td>\n",
              "      <td>Travel_Rarely</td>\n",
              "      <td>Sales</td>\n",
              "      <td>1</td>\n",
              "      <td>2</td>\n",
              "      <td>Life Sciences</td>\n",
              "      <td>2</td>\n",
              "      <td>Female</td>\n",
              "      <td>3</td>\n",
              "      <td>...</td>\n",
              "      <td>3</td>\n",
              "      <td>1</td>\n",
              "      <td>8</td>\n",
              "      <td>0</td>\n",
              "      <td>1</td>\n",
              "      <td>6</td>\n",
              "      <td>4</td>\n",
              "      <td>0</td>\n",
              "      <td>5</td>\n",
              "      <td>16</td>\n",
              "    </tr>\n",
              "    <tr>\n",
              "      <th>1</th>\n",
              "      <td>49</td>\n",
              "      <td>No</td>\n",
              "      <td>Travel_Frequently</td>\n",
              "      <td>Research &amp; Development</td>\n",
              "      <td>8</td>\n",
              "      <td>1</td>\n",
              "      <td>Life Sciences</td>\n",
              "      <td>3</td>\n",
              "      <td>Male</td>\n",
              "      <td>2</td>\n",
              "      <td>...</td>\n",
              "      <td>4</td>\n",
              "      <td>4</td>\n",
              "      <td>10</td>\n",
              "      <td>3</td>\n",
              "      <td>3</td>\n",
              "      <td>10</td>\n",
              "      <td>7</td>\n",
              "      <td>1</td>\n",
              "      <td>7</td>\n",
              "      <td>10</td>\n",
              "    </tr>\n",
              "    <tr>\n",
              "      <th>2</th>\n",
              "      <td>37</td>\n",
              "      <td>Yes</td>\n",
              "      <td>Travel_Rarely</td>\n",
              "      <td>Research &amp; Development</td>\n",
              "      <td>2</td>\n",
              "      <td>2</td>\n",
              "      <td>Other</td>\n",
              "      <td>4</td>\n",
              "      <td>Male</td>\n",
              "      <td>2</td>\n",
              "      <td>...</td>\n",
              "      <td>3</td>\n",
              "      <td>2</td>\n",
              "      <td>7</td>\n",
              "      <td>3</td>\n",
              "      <td>3</td>\n",
              "      <td>0</td>\n",
              "      <td>0</td>\n",
              "      <td>0</td>\n",
              "      <td>0</td>\n",
              "      <td>1</td>\n",
              "    </tr>\n",
              "    <tr>\n",
              "      <th>3</th>\n",
              "      <td>33</td>\n",
              "      <td>No</td>\n",
              "      <td>Travel_Frequently</td>\n",
              "      <td>Research &amp; Development</td>\n",
              "      <td>3</td>\n",
              "      <td>4</td>\n",
              "      <td>Life Sciences</td>\n",
              "      <td>4</td>\n",
              "      <td>Female</td>\n",
              "      <td>3</td>\n",
              "      <td>...</td>\n",
              "      <td>3</td>\n",
              "      <td>3</td>\n",
              "      <td>8</td>\n",
              "      <td>3</td>\n",
              "      <td>3</td>\n",
              "      <td>8</td>\n",
              "      <td>7</td>\n",
              "      <td>3</td>\n",
              "      <td>0</td>\n",
              "      <td>2</td>\n",
              "    </tr>\n",
              "    <tr>\n",
              "      <th>4</th>\n",
              "      <td>27</td>\n",
              "      <td>No</td>\n",
              "      <td>Travel_Rarely</td>\n",
              "      <td>Research &amp; Development</td>\n",
              "      <td>2</td>\n",
              "      <td>1</td>\n",
              "      <td>Medical</td>\n",
              "      <td>1</td>\n",
              "      <td>Male</td>\n",
              "      <td>3</td>\n",
              "      <td>...</td>\n",
              "      <td>3</td>\n",
              "      <td>4</td>\n",
              "      <td>6</td>\n",
              "      <td>3</td>\n",
              "      <td>3</td>\n",
              "      <td>2</td>\n",
              "      <td>2</td>\n",
              "      <td>2</td>\n",
              "      <td>2</td>\n",
              "      <td>11</td>\n",
              "    </tr>\n",
              "  </tbody>\n",
              "</table>\n",
              "<p>5 rows × 28 columns</p>\n",
              "</div>"
            ],
            "text/plain": [
              "   Age Attrition     BusinessTravel              Department  DistanceFromHome  \\\n",
              "0   41       Yes      Travel_Rarely                   Sales                 1   \n",
              "1   49        No  Travel_Frequently  Research & Development                 8   \n",
              "2   37       Yes      Travel_Rarely  Research & Development                 2   \n",
              "3   33        No  Travel_Frequently  Research & Development                 3   \n",
              "4   27        No      Travel_Rarely  Research & Development                 2   \n",
              "\n",
              "   Education EducationField  EnvironmentSatisfaction  Gender  JobInvolvement  \\\n",
              "0          2  Life Sciences                        2  Female               3   \n",
              "1          1  Life Sciences                        3    Male               2   \n",
              "2          2          Other                        4    Male               2   \n",
              "3          4  Life Sciences                        4  Female               3   \n",
              "4          1        Medical                        1    Male               3   \n",
              "\n",
              "   ...  PerformanceRating RelationshipSatisfaction  TotalWorkingYears  \\\n",
              "0  ...                  3                        1                  8   \n",
              "1  ...                  4                        4                 10   \n",
              "2  ...                  3                        2                  7   \n",
              "3  ...                  3                        3                  8   \n",
              "4  ...                  3                        4                  6   \n",
              "\n",
              "  TrainingTimesLastYear  WorkLifeBalance  YearsAtCompany YearsInCurrentRole  \\\n",
              "0                     0                1               6                  4   \n",
              "1                     3                3              10                  7   \n",
              "2                     3                3               0                  0   \n",
              "3                     3                3               8                  7   \n",
              "4                     3                3               2                  2   \n",
              "\n",
              "   YearsSinceLastPromotion  YearsWithCurrManager  PTOs Utilized  \n",
              "0                        0                     5             16  \n",
              "1                        1                     7             10  \n",
              "2                        0                     0              1  \n",
              "3                        3                     0              2  \n",
              "4                        2                     2             11  \n",
              "\n",
              "[5 rows x 28 columns]"
            ]
          },
          "execution_count": 6,
          "metadata": {},
          "output_type": "execute_result"
        }
      ],
      "source": [
        "df.head()"
      ]
    },
    {
      "cell_type": "code",
      "execution_count": 7,
      "metadata": {
        "colab": {
          "base_uri": "https://localhost:8080/",
          "height": 300
        },
        "id": "RgVoCF1WpQZ0",
        "outputId": "30e46d72-6651-4620-9970-cb87a1ea877f"
      },
      "outputs": [
        {
          "data": {
            "application/vnd.microsoft.datawrangler.viewer.v0+json": {
              "columns": [
                {
                  "name": "index",
                  "rawType": "object",
                  "type": "string"
                },
                {
                  "name": "Age",
                  "rawType": "float64",
                  "type": "float"
                },
                {
                  "name": "DistanceFromHome",
                  "rawType": "float64",
                  "type": "float"
                },
                {
                  "name": "Education",
                  "rawType": "float64",
                  "type": "float"
                },
                {
                  "name": "EnvironmentSatisfaction",
                  "rawType": "float64",
                  "type": "float"
                },
                {
                  "name": "JobInvolvement",
                  "rawType": "float64",
                  "type": "float"
                },
                {
                  "name": "JobLevel",
                  "rawType": "float64",
                  "type": "float"
                },
                {
                  "name": "JobSatisfaction",
                  "rawType": "float64",
                  "type": "float"
                },
                {
                  "name": "MonthlyIncome",
                  "rawType": "float64",
                  "type": "float"
                },
                {
                  "name": "NumCompaniesWorked",
                  "rawType": "float64",
                  "type": "float"
                },
                {
                  "name": "PercentSalaryHike",
                  "rawType": "float64",
                  "type": "float"
                },
                {
                  "name": "PerformanceRating",
                  "rawType": "float64",
                  "type": "float"
                },
                {
                  "name": "RelationshipSatisfaction",
                  "rawType": "float64",
                  "type": "float"
                },
                {
                  "name": "TotalWorkingYears",
                  "rawType": "float64",
                  "type": "float"
                },
                {
                  "name": "TrainingTimesLastYear",
                  "rawType": "float64",
                  "type": "float"
                },
                {
                  "name": "WorkLifeBalance",
                  "rawType": "float64",
                  "type": "float"
                },
                {
                  "name": "YearsAtCompany",
                  "rawType": "float64",
                  "type": "float"
                },
                {
                  "name": "YearsInCurrentRole",
                  "rawType": "float64",
                  "type": "float"
                },
                {
                  "name": "YearsSinceLastPromotion",
                  "rawType": "float64",
                  "type": "float"
                },
                {
                  "name": "YearsWithCurrManager",
                  "rawType": "float64",
                  "type": "float"
                },
                {
                  "name": "PTOs Utilized",
                  "rawType": "float64",
                  "type": "float"
                }
              ],
              "ref": "0b4615eb-1d3f-4e31-be52-8a709058d3c7",
              "rows": [
                [
                  "count",
                  "1470.0",
                  "1470.0",
                  "1470.0",
                  "1470.0",
                  "1470.0",
                  "1470.0",
                  "1470.0",
                  "1470.0",
                  "1470.0",
                  "1470.0",
                  "1470.0",
                  "1470.0",
                  "1470.0",
                  "1470.0",
                  "1470.0",
                  "1470.0",
                  "1470.0",
                  "1470.0",
                  "1470.0",
                  "1470.0"
                ],
                [
                  "mean",
                  "36.923809523809524",
                  "9.19251700680272",
                  "2.912925170068027",
                  "2.721768707482993",
                  "2.7299319727891156",
                  "2.0639455782312925",
                  "2.7285714285714286",
                  "6502.931292517007",
                  "2.6931972789115646",
                  "15.209523809523809",
                  "3.1537414965986397",
                  "2.7122448979591836",
                  "11.279591836734694",
                  "2.7993197278911564",
                  "2.7612244897959184",
                  "7.0081632653061225",
                  "4.229251700680272",
                  "2.1877551020408164",
                  "4.12312925170068",
                  "9.468027210884355"
                ],
                [
                  "std",
                  "9.135373489136734",
                  "8.106864435666084",
                  "1.0241649445978729",
                  "1.0930822146349994",
                  "0.7115611429632283",
                  "1.1069398989351114",
                  "1.1028461230547149",
                  "4707.956783097995",
                  "2.498009006070751",
                  "3.659937716539636",
                  "0.36082352460434486",
                  "1.081208886440361",
                  "7.780781675515004",
                  "1.2892706207958435",
                  "0.7064758297141522",
                  "6.126525152403566",
                  "3.6231370346706395",
                  "3.222430279137968",
                  "3.5681361205404407",
                  "5.773581135475443"
                ],
                [
                  "min",
                  "18.0",
                  "1.0",
                  "1.0",
                  "1.0",
                  "1.0",
                  "1.0",
                  "1.0",
                  "1009.0",
                  "0.0",
                  "11.0",
                  "3.0",
                  "1.0",
                  "0.0",
                  "0.0",
                  "1.0",
                  "0.0",
                  "0.0",
                  "0.0",
                  "0.0",
                  "0.0"
                ],
                [
                  "25%",
                  "30.0",
                  "2.0",
                  "2.0",
                  "2.0",
                  "2.0",
                  "1.0",
                  "2.0",
                  "2911.0",
                  "1.0",
                  "12.0",
                  "3.0",
                  "2.0",
                  "6.0",
                  "2.0",
                  "2.0",
                  "3.0",
                  "2.0",
                  "0.0",
                  "2.0",
                  "4.0"
                ],
                [
                  "50%",
                  "36.0",
                  "7.0",
                  "3.0",
                  "3.0",
                  "3.0",
                  "2.0",
                  "3.0",
                  "4919.0",
                  "2.0",
                  "14.0",
                  "3.0",
                  "3.0",
                  "10.0",
                  "3.0",
                  "3.0",
                  "5.0",
                  "3.0",
                  "1.0",
                  "3.0",
                  "9.0"
                ],
                [
                  "75%",
                  "43.0",
                  "14.0",
                  "4.0",
                  "4.0",
                  "3.0",
                  "3.0",
                  "4.0",
                  "8379.0",
                  "4.0",
                  "18.0",
                  "3.0",
                  "4.0",
                  "15.0",
                  "3.0",
                  "3.0",
                  "9.0",
                  "7.0",
                  "3.0",
                  "7.0",
                  "14.0"
                ],
                [
                  "max",
                  "60.0",
                  "29.0",
                  "5.0",
                  "4.0",
                  "4.0",
                  "5.0",
                  "4.0",
                  "19999.0",
                  "9.0",
                  "25.0",
                  "4.0",
                  "4.0",
                  "40.0",
                  "6.0",
                  "4.0",
                  "40.0",
                  "18.0",
                  "15.0",
                  "17.0",
                  "19.0"
                ]
              ],
              "shape": {
                "columns": 20,
                "rows": 8
              }
            },
            "text/html": [
              "<div>\n",
              "<style scoped>\n",
              "    .dataframe tbody tr th:only-of-type {\n",
              "        vertical-align: middle;\n",
              "    }\n",
              "\n",
              "    .dataframe tbody tr th {\n",
              "        vertical-align: top;\n",
              "    }\n",
              "\n",
              "    .dataframe thead th {\n",
              "        text-align: right;\n",
              "    }\n",
              "</style>\n",
              "<table border=\"1\" class=\"dataframe\">\n",
              "  <thead>\n",
              "    <tr style=\"text-align: right;\">\n",
              "      <th></th>\n",
              "      <th>Age</th>\n",
              "      <th>DistanceFromHome</th>\n",
              "      <th>Education</th>\n",
              "      <th>EnvironmentSatisfaction</th>\n",
              "      <th>JobInvolvement</th>\n",
              "      <th>JobLevel</th>\n",
              "      <th>JobSatisfaction</th>\n",
              "      <th>MonthlyIncome</th>\n",
              "      <th>NumCompaniesWorked</th>\n",
              "      <th>PercentSalaryHike</th>\n",
              "      <th>PerformanceRating</th>\n",
              "      <th>RelationshipSatisfaction</th>\n",
              "      <th>TotalWorkingYears</th>\n",
              "      <th>TrainingTimesLastYear</th>\n",
              "      <th>WorkLifeBalance</th>\n",
              "      <th>YearsAtCompany</th>\n",
              "      <th>YearsInCurrentRole</th>\n",
              "      <th>YearsSinceLastPromotion</th>\n",
              "      <th>YearsWithCurrManager</th>\n",
              "      <th>PTOs Utilized</th>\n",
              "    </tr>\n",
              "  </thead>\n",
              "  <tbody>\n",
              "    <tr>\n",
              "      <th>count</th>\n",
              "      <td>1470.00</td>\n",
              "      <td>1470.00</td>\n",
              "      <td>1470.00</td>\n",
              "      <td>1470.00</td>\n",
              "      <td>1470.00</td>\n",
              "      <td>1470.00</td>\n",
              "      <td>1470.00</td>\n",
              "      <td>1470.00</td>\n",
              "      <td>1470.00</td>\n",
              "      <td>1470.00</td>\n",
              "      <td>1470.00</td>\n",
              "      <td>1470.00</td>\n",
              "      <td>1470.00</td>\n",
              "      <td>1470.00</td>\n",
              "      <td>1470.00</td>\n",
              "      <td>1470.00</td>\n",
              "      <td>1470.00</td>\n",
              "      <td>1470.00</td>\n",
              "      <td>1470.00</td>\n",
              "      <td>1470.00</td>\n",
              "    </tr>\n",
              "    <tr>\n",
              "      <th>mean</th>\n",
              "      <td>36.92</td>\n",
              "      <td>9.19</td>\n",
              "      <td>2.91</td>\n",
              "      <td>2.72</td>\n",
              "      <td>2.73</td>\n",
              "      <td>2.06</td>\n",
              "      <td>2.73</td>\n",
              "      <td>6502.93</td>\n",
              "      <td>2.69</td>\n",
              "      <td>15.21</td>\n",
              "      <td>3.15</td>\n",
              "      <td>2.71</td>\n",
              "      <td>11.28</td>\n",
              "      <td>2.80</td>\n",
              "      <td>2.76</td>\n",
              "      <td>7.01</td>\n",
              "      <td>4.23</td>\n",
              "      <td>2.19</td>\n",
              "      <td>4.12</td>\n",
              "      <td>9.47</td>\n",
              "    </tr>\n",
              "    <tr>\n",
              "      <th>std</th>\n",
              "      <td>9.14</td>\n",
              "      <td>8.11</td>\n",
              "      <td>1.02</td>\n",
              "      <td>1.09</td>\n",
              "      <td>0.71</td>\n",
              "      <td>1.11</td>\n",
              "      <td>1.10</td>\n",
              "      <td>4707.96</td>\n",
              "      <td>2.50</td>\n",
              "      <td>3.66</td>\n",
              "      <td>0.36</td>\n",
              "      <td>1.08</td>\n",
              "      <td>7.78</td>\n",
              "      <td>1.29</td>\n",
              "      <td>0.71</td>\n",
              "      <td>6.13</td>\n",
              "      <td>3.62</td>\n",
              "      <td>3.22</td>\n",
              "      <td>3.57</td>\n",
              "      <td>5.77</td>\n",
              "    </tr>\n",
              "    <tr>\n",
              "      <th>min</th>\n",
              "      <td>18.00</td>\n",
              "      <td>1.00</td>\n",
              "      <td>1.00</td>\n",
              "      <td>1.00</td>\n",
              "      <td>1.00</td>\n",
              "      <td>1.00</td>\n",
              "      <td>1.00</td>\n",
              "      <td>1009.00</td>\n",
              "      <td>0.00</td>\n",
              "      <td>11.00</td>\n",
              "      <td>3.00</td>\n",
              "      <td>1.00</td>\n",
              "      <td>0.00</td>\n",
              "      <td>0.00</td>\n",
              "      <td>1.00</td>\n",
              "      <td>0.00</td>\n",
              "      <td>0.00</td>\n",
              "      <td>0.00</td>\n",
              "      <td>0.00</td>\n",
              "      <td>0.00</td>\n",
              "    </tr>\n",
              "    <tr>\n",
              "      <th>25%</th>\n",
              "      <td>30.00</td>\n",
              "      <td>2.00</td>\n",
              "      <td>2.00</td>\n",
              "      <td>2.00</td>\n",
              "      <td>2.00</td>\n",
              "      <td>1.00</td>\n",
              "      <td>2.00</td>\n",
              "      <td>2911.00</td>\n",
              "      <td>1.00</td>\n",
              "      <td>12.00</td>\n",
              "      <td>3.00</td>\n",
              "      <td>2.00</td>\n",
              "      <td>6.00</td>\n",
              "      <td>2.00</td>\n",
              "      <td>2.00</td>\n",
              "      <td>3.00</td>\n",
              "      <td>2.00</td>\n",
              "      <td>0.00</td>\n",
              "      <td>2.00</td>\n",
              "      <td>4.00</td>\n",
              "    </tr>\n",
              "    <tr>\n",
              "      <th>50%</th>\n",
              "      <td>36.00</td>\n",
              "      <td>7.00</td>\n",
              "      <td>3.00</td>\n",
              "      <td>3.00</td>\n",
              "      <td>3.00</td>\n",
              "      <td>2.00</td>\n",
              "      <td>3.00</td>\n",
              "      <td>4919.00</td>\n",
              "      <td>2.00</td>\n",
              "      <td>14.00</td>\n",
              "      <td>3.00</td>\n",
              "      <td>3.00</td>\n",
              "      <td>10.00</td>\n",
              "      <td>3.00</td>\n",
              "      <td>3.00</td>\n",
              "      <td>5.00</td>\n",
              "      <td>3.00</td>\n",
              "      <td>1.00</td>\n",
              "      <td>3.00</td>\n",
              "      <td>9.00</td>\n",
              "    </tr>\n",
              "    <tr>\n",
              "      <th>75%</th>\n",
              "      <td>43.00</td>\n",
              "      <td>14.00</td>\n",
              "      <td>4.00</td>\n",
              "      <td>4.00</td>\n",
              "      <td>3.00</td>\n",
              "      <td>3.00</td>\n",
              "      <td>4.00</td>\n",
              "      <td>8379.00</td>\n",
              "      <td>4.00</td>\n",
              "      <td>18.00</td>\n",
              "      <td>3.00</td>\n",
              "      <td>4.00</td>\n",
              "      <td>15.00</td>\n",
              "      <td>3.00</td>\n",
              "      <td>3.00</td>\n",
              "      <td>9.00</td>\n",
              "      <td>7.00</td>\n",
              "      <td>3.00</td>\n",
              "      <td>7.00</td>\n",
              "      <td>14.00</td>\n",
              "    </tr>\n",
              "    <tr>\n",
              "      <th>max</th>\n",
              "      <td>60.00</td>\n",
              "      <td>29.00</td>\n",
              "      <td>5.00</td>\n",
              "      <td>4.00</td>\n",
              "      <td>4.00</td>\n",
              "      <td>5.00</td>\n",
              "      <td>4.00</td>\n",
              "      <td>19999.00</td>\n",
              "      <td>9.00</td>\n",
              "      <td>25.00</td>\n",
              "      <td>4.00</td>\n",
              "      <td>4.00</td>\n",
              "      <td>40.00</td>\n",
              "      <td>6.00</td>\n",
              "      <td>4.00</td>\n",
              "      <td>40.00</td>\n",
              "      <td>18.00</td>\n",
              "      <td>15.00</td>\n",
              "      <td>17.00</td>\n",
              "      <td>19.00</td>\n",
              "    </tr>\n",
              "  </tbody>\n",
              "</table>\n",
              "</div>"
            ],
            "text/plain": [
              "          Age  DistanceFromHome  Education  EnvironmentSatisfaction  \\\n",
              "count 1470.00           1470.00    1470.00                  1470.00   \n",
              "mean    36.92              9.19       2.91                     2.72   \n",
              "std      9.14              8.11       1.02                     1.09   \n",
              "min     18.00              1.00       1.00                     1.00   \n",
              "25%     30.00              2.00       2.00                     2.00   \n",
              "50%     36.00              7.00       3.00                     3.00   \n",
              "75%     43.00             14.00       4.00                     4.00   \n",
              "max     60.00             29.00       5.00                     4.00   \n",
              "\n",
              "       JobInvolvement  JobLevel  JobSatisfaction  MonthlyIncome  \\\n",
              "count         1470.00   1470.00          1470.00        1470.00   \n",
              "mean             2.73      2.06             2.73        6502.93   \n",
              "std              0.71      1.11             1.10        4707.96   \n",
              "min              1.00      1.00             1.00        1009.00   \n",
              "25%              2.00      1.00             2.00        2911.00   \n",
              "50%              3.00      2.00             3.00        4919.00   \n",
              "75%              3.00      3.00             4.00        8379.00   \n",
              "max              4.00      5.00             4.00       19999.00   \n",
              "\n",
              "       NumCompaniesWorked  PercentSalaryHike  PerformanceRating  \\\n",
              "count             1470.00            1470.00            1470.00   \n",
              "mean                 2.69              15.21               3.15   \n",
              "std                  2.50               3.66               0.36   \n",
              "min                  0.00              11.00               3.00   \n",
              "25%                  1.00              12.00               3.00   \n",
              "50%                  2.00              14.00               3.00   \n",
              "75%                  4.00              18.00               3.00   \n",
              "max                  9.00              25.00               4.00   \n",
              "\n",
              "       RelationshipSatisfaction  TotalWorkingYears  TrainingTimesLastYear  \\\n",
              "count                   1470.00            1470.00                1470.00   \n",
              "mean                       2.71              11.28                   2.80   \n",
              "std                        1.08               7.78                   1.29   \n",
              "min                        1.00               0.00                   0.00   \n",
              "25%                        2.00               6.00                   2.00   \n",
              "50%                        3.00              10.00                   3.00   \n",
              "75%                        4.00              15.00                   3.00   \n",
              "max                        4.00              40.00                   6.00   \n",
              "\n",
              "       WorkLifeBalance  YearsAtCompany  YearsInCurrentRole  \\\n",
              "count          1470.00         1470.00             1470.00   \n",
              "mean              2.76            7.01                4.23   \n",
              "std               0.71            6.13                3.62   \n",
              "min               1.00            0.00                0.00   \n",
              "25%               2.00            3.00                2.00   \n",
              "50%               3.00            5.00                3.00   \n",
              "75%               3.00            9.00                7.00   \n",
              "max               4.00           40.00               18.00   \n",
              "\n",
              "       YearsSinceLastPromotion  YearsWithCurrManager  PTOs Utilized  \n",
              "count                  1470.00               1470.00        1470.00  \n",
              "mean                      2.19                  4.12           9.47  \n",
              "std                       3.22                  3.57           5.77  \n",
              "min                       0.00                  0.00           0.00  \n",
              "25%                       0.00                  2.00           4.00  \n",
              "50%                       1.00                  3.00           9.00  \n",
              "75%                       3.00                  7.00          14.00  \n",
              "max                      15.00                 17.00          19.00  "
            ]
          },
          "execution_count": 7,
          "metadata": {},
          "output_type": "execute_result"
        }
      ],
      "source": [
        "#Assess the dataset using .describe() function\n",
        "df.describe()"
      ]
    },
    {
      "cell_type": "code",
      "execution_count": 8,
      "metadata": {
        "colab": {
          "base_uri": "https://localhost:8080/"
        },
        "id": "481aXEWCpTmX",
        "outputId": "566dcfc4-822f-41e7-9255-54ef4ebb9194"
      },
      "outputs": [
        {
          "data": {
            "text/plain": [
              "(1470, 28)"
            ]
          },
          "execution_count": 8,
          "metadata": {},
          "output_type": "execute_result"
        }
      ],
      "source": [
        "#Check the number of features and observations in the dataset\n",
        "df.shape"
      ]
    },
    {
      "cell_type": "code",
      "execution_count": 12,
      "metadata": {
        "colab": {
          "base_uri": "https://localhost:8080/"
        },
        "id": "8IBNqGm8pVg4",
        "outputId": "823b713d-9c4c-4336-f146-80d1ca9470c8"
      },
      "outputs": [
        {
          "data": {
            "application/vnd.microsoft.datawrangler.viewer.v0+json": {
              "columns": [
                {
                  "name": "Attrition",
                  "rawType": "object",
                  "type": "string"
                },
                {
                  "name": "count",
                  "rawType": "int64",
                  "type": "integer"
                }
              ],
              "ref": "4a8eba73-5524-4f80-9ba7-175a77234a56",
              "rows": [
                [
                  "No",
                  "1233"
                ],
                [
                  "Yes",
                  "237"
                ]
              ],
              "shape": {
                "columns": 1,
                "rows": 2
              }
            },
            "text/plain": [
              "Attrition\n",
              "No     1233\n",
              "Yes     237\n",
              "Name: count, dtype: int64"
            ]
          },
          "execution_count": 12,
          "metadata": {},
          "output_type": "execute_result"
        }
      ],
      "source": [
        "#Check the number of classes we have\n",
        "df[\"Attrition\"].value_counts()"
      ]
    },
    {
      "cell_type": "code",
      "execution_count": 13,
      "metadata": {
        "colab": {
          "base_uri": "https://localhost:8080/",
          "height": 466
        },
        "id": "o3CAtuMlp0ty",
        "outputId": "79cb30b2-dbb7-484a-86ce-38b4914e4c52"
      },
      "outputs": [
        {
          "data": {
            "text/plain": [
              "<Axes: xlabel='Attrition', ylabel='count'>"
            ]
          },
          "execution_count": 13,
          "metadata": {},
          "output_type": "execute_result"
        }
      ],
      "source": [
        "sns.countplot(data = df, x = \"Attrition\")"
      ]
    },
    {
      "cell_type": "markdown",
      "metadata": {
        "id": "_mgVcERBp9ZT"
      },
      "source": [
        "# Build the Model"
      ]
    },
    {
      "cell_type": "markdown",
      "metadata": {
        "id": "_1bsUCDeqC-q"
      },
      "source": [
        "### Split the features and the target column"
      ]
    },
    {
      "cell_type": "code",
      "execution_count": 15,
      "metadata": {
        "id": "a9N6YKUyqD6-"
      },
      "outputs": [],
      "source": [
        "x = df.drop([\"Attrition\"], axis=1)\n",
        "y = df[\"Attrition\"]"
      ]
    },
    {
      "cell_type": "markdown",
      "metadata": {
        "id": "6kJmagJfqJuN"
      },
      "source": [
        "## Cross Validation"
      ]
    },
    {
      "cell_type": "markdown",
      "metadata": {
        "id": "PEfdoT1nqLxK"
      },
      "source": [
        "### Import the Cross Validation Score Function"
      ]
    },
    {
      "cell_type": "code",
      "execution_count": 16,
      "metadata": {
        "id": "MtBfYq7TqOvD"
      },
      "outputs": [],
      "source": [
        "#Import the Cross Validation Score function\n",
        "from sklearn.model_selection import cross_val_score\n",
        "from sklearn.model_selection import cross_validate"
      ]
    },
    {
      "cell_type": "markdown",
      "metadata": {
        "id": "Fe_4KPFusCa4"
      },
      "source": [
        "### Run the Cross Validation Function on a Pipeline"
      ]
    },
    {
      "cell_type": "code",
      "execution_count": 17,
      "metadata": {
        "id": "03FScrGFtDZU"
      },
      "outputs": [],
      "source": [
        "from sklearn.linear_model import LogisticRegression\n",
        "from sklearn.tree import DecisionTreeClassifier\n",
        "from sklearn.ensemble import RandomForestClassifier"
      ]
    },
    {
      "cell_type": "code",
      "execution_count": 18,
      "metadata": {
        "id": "Ku4oDSjPszNb"
      },
      "outputs": [],
      "source": [
        "logreg = LogisticRegression(C=1.0, class_weight=\"balanced\", solver='liblinear', random_state=30)\n",
        "\n",
        "dt = DecisionTreeClassifier(criterion=\"gini\", min_samples_split=4, min_samples_leaf=5,\n",
        "            max_depth=10, random_state=30)\n",
        "\n",
        "rf = RandomForestClassifier(criterion=\"gini\",\n",
        "                            min_samples_split=2,\n",
        "                            min_samples_leaf=1,\n",
        "                            max_depth=12,\n",
        "                            n_estimators=100,\n",
        "                            random_state=30)\n"
      ]
    },
    {
      "cell_type": "code",
      "execution_count": 19,
      "metadata": {
        "id": "N5HtxXPZsGSP"
      },
      "outputs": [],
      "source": [
        "from sklearn.pipeline import make_pipeline\n",
        "\n",
        "logreg_pipeline = make_pipeline(StandardScaler(), logreg)\n",
        "\n",
        "decisiontree_pipeline = make_pipeline(StandardScaler(), dt)\n",
        "\n",
        "randomforest_pipeline = make_pipeline(StandardScaler(), rf)\n"
      ]
    },
    {
      "cell_type": "markdown",
      "metadata": {
        "id": "TkxqNT2h0OP4"
      },
      "source": [
        "## Logistic Regression Scoring"
      ]
    },
    {
      "cell_type": "markdown",
      "metadata": {
        "id": "_pLtiAXg-7Uz"
      },
      "source": []
    },
    {
      "cell_type": "markdown",
      "metadata": {
        "id": "X7AMUjpa0Vfz"
      },
      "source": [
        "### ROC_AUC"
      ]
    },
    {
      "cell_type": "code",
      "execution_count": 20,
      "metadata": {
        "colab": {
          "base_uri": "https://localhost:8080/"
        },
        "id": "L9qkpF8lt_Dd",
        "outputId": "490b8379-1c23-480f-b85a-92c50166012f"
      },
      "outputs": [
        {
          "ename": "ValueError",
          "evalue": "\nAll the 5 fits failed.\nIt is very likely that your model is misconfigured.\nYou can try to debug the error by setting error_score='raise'.\n\nBelow are more details about the failures:\n--------------------------------------------------------------------------------\n1 fits failed with the following error:\nTraceback (most recent call last):\n  File \"c:\\Users\\junni\\anaconda3\\Lib\\site-packages\\sklearn\\model_selection\\_validation.py\", line 888, in _fit_and_score\n    estimator.fit(X_train, y_train, **fit_params)\n  File \"c:\\Users\\junni\\anaconda3\\Lib\\site-packages\\sklearn\\base.py\", line 1473, in wrapper\n    return fit_method(estimator, *args, **kwargs)\n           ^^^^^^^^^^^^^^^^^^^^^^^^^^^^^^^^^^^^^^\n  File \"c:\\Users\\junni\\anaconda3\\Lib\\site-packages\\sklearn\\pipeline.py\", line 469, in fit\n    Xt = self._fit(X, y, routed_params)\n         ^^^^^^^^^^^^^^^^^^^^^^^^^^^^^^\n  File \"c:\\Users\\junni\\anaconda3\\Lib\\site-packages\\sklearn\\pipeline.py\", line 406, in _fit\n    X, fitted_transformer = fit_transform_one_cached(\n                            ^^^^^^^^^^^^^^^^^^^^^^^^^\n  File \"c:\\Users\\junni\\anaconda3\\Lib\\site-packages\\joblib\\memory.py\", line 312, in __call__\n    return self.func(*args, **kwargs)\n           ^^^^^^^^^^^^^^^^^^^^^^^^^^\n  File \"c:\\Users\\junni\\anaconda3\\Lib\\site-packages\\sklearn\\pipeline.py\", line 1310, in _fit_transform_one\n    res = transformer.fit_transform(X, y, **params.get(\"fit_transform\", {}))\n          ^^^^^^^^^^^^^^^^^^^^^^^^^^^^^^^^^^^^^^^^^^^^^^^^^^^^^^^^^^^^^^^^^^\n  File \"c:\\Users\\junni\\anaconda3\\Lib\\site-packages\\sklearn\\utils\\_set_output.py\", line 313, in wrapped\n    data_to_wrap = f(self, X, *args, **kwargs)\n                   ^^^^^^^^^^^^^^^^^^^^^^^^^^^\n  File \"c:\\Users\\junni\\anaconda3\\Lib\\site-packages\\sklearn\\base.py\", line 1101, in fit_transform\n    return self.fit(X, y, **fit_params).transform(X)\n           ^^^^^^^^^^^^^^^^^^^^^^^^^^^^\n  File \"c:\\Users\\junni\\anaconda3\\Lib\\site-packages\\sklearn\\preprocessing\\_data.py\", line 878, in fit\n    return self.partial_fit(X, y, sample_weight)\n           ^^^^^^^^^^^^^^^^^^^^^^^^^^^^^^^^^^^^^\n  File \"c:\\Users\\junni\\anaconda3\\Lib\\site-packages\\sklearn\\base.py\", line 1473, in wrapper\n    return fit_method(estimator, *args, **kwargs)\n           ^^^^^^^^^^^^^^^^^^^^^^^^^^^^^^^^^^^^^^\n  File \"c:\\Users\\junni\\anaconda3\\Lib\\site-packages\\sklearn\\preprocessing\\_data.py\", line 914, in partial_fit\n    X = self._validate_data(\n        ^^^^^^^^^^^^^^^^^^^^\n  File \"c:\\Users\\junni\\anaconda3\\Lib\\site-packages\\sklearn\\base.py\", line 633, in _validate_data\n    out = check_array(X, input_name=\"X\", **check_params)\n          ^^^^^^^^^^^^^^^^^^^^^^^^^^^^^^^^^^^^^^^^^^^^^^\n  File \"c:\\Users\\junni\\anaconda3\\Lib\\site-packages\\sklearn\\utils\\validation.py\", line 1012, in check_array\n    array = _asarray_with_order(array, order=order, dtype=dtype, xp=xp)\n            ^^^^^^^^^^^^^^^^^^^^^^^^^^^^^^^^^^^^^^^^^^^^^^^^^^^^^^^^^^^\n  File \"c:\\Users\\junni\\anaconda3\\Lib\\site-packages\\sklearn\\utils\\_array_api.py\", line 751, in _asarray_with_order\n    array = numpy.asarray(array, order=order, dtype=dtype)\n            ^^^^^^^^^^^^^^^^^^^^^^^^^^^^^^^^^^^^^^^^^^^^^^\n  File \"c:\\Users\\junni\\anaconda3\\Lib\\site-packages\\pandas\\core\\generic.py\", line 2153, in __array__\n    arr = np.asarray(values, dtype=dtype)\n          ^^^^^^^^^^^^^^^^^^^^^^^^^^^^^^^\nValueError: could not convert string to float: 'Travel_Frequently'\n\n--------------------------------------------------------------------------------\n4 fits failed with the following error:\nTraceback (most recent call last):\n  File \"c:\\Users\\junni\\anaconda3\\Lib\\site-packages\\sklearn\\model_selection\\_validation.py\", line 888, in _fit_and_score\n    estimator.fit(X_train, y_train, **fit_params)\n  File \"c:\\Users\\junni\\anaconda3\\Lib\\site-packages\\sklearn\\base.py\", line 1473, in wrapper\n    return fit_method(estimator, *args, **kwargs)\n           ^^^^^^^^^^^^^^^^^^^^^^^^^^^^^^^^^^^^^^\n  File \"c:\\Users\\junni\\anaconda3\\Lib\\site-packages\\sklearn\\pipeline.py\", line 469, in fit\n    Xt = self._fit(X, y, routed_params)\n         ^^^^^^^^^^^^^^^^^^^^^^^^^^^^^^\n  File \"c:\\Users\\junni\\anaconda3\\Lib\\site-packages\\sklearn\\pipeline.py\", line 406, in _fit\n    X, fitted_transformer = fit_transform_one_cached(\n                            ^^^^^^^^^^^^^^^^^^^^^^^^^\n  File \"c:\\Users\\junni\\anaconda3\\Lib\\site-packages\\joblib\\memory.py\", line 312, in __call__\n    return self.func(*args, **kwargs)\n           ^^^^^^^^^^^^^^^^^^^^^^^^^^\n  File \"c:\\Users\\junni\\anaconda3\\Lib\\site-packages\\sklearn\\pipeline.py\", line 1310, in _fit_transform_one\n    res = transformer.fit_transform(X, y, **params.get(\"fit_transform\", {}))\n          ^^^^^^^^^^^^^^^^^^^^^^^^^^^^^^^^^^^^^^^^^^^^^^^^^^^^^^^^^^^^^^^^^^\n  File \"c:\\Users\\junni\\anaconda3\\Lib\\site-packages\\sklearn\\utils\\_set_output.py\", line 313, in wrapped\n    data_to_wrap = f(self, X, *args, **kwargs)\n                   ^^^^^^^^^^^^^^^^^^^^^^^^^^^\n  File \"c:\\Users\\junni\\anaconda3\\Lib\\site-packages\\sklearn\\base.py\", line 1101, in fit_transform\n    return self.fit(X, y, **fit_params).transform(X)\n           ^^^^^^^^^^^^^^^^^^^^^^^^^^^^\n  File \"c:\\Users\\junni\\anaconda3\\Lib\\site-packages\\sklearn\\preprocessing\\_data.py\", line 878, in fit\n    return self.partial_fit(X, y, sample_weight)\n           ^^^^^^^^^^^^^^^^^^^^^^^^^^^^^^^^^^^^^\n  File \"c:\\Users\\junni\\anaconda3\\Lib\\site-packages\\sklearn\\base.py\", line 1473, in wrapper\n    return fit_method(estimator, *args, **kwargs)\n           ^^^^^^^^^^^^^^^^^^^^^^^^^^^^^^^^^^^^^^\n  File \"c:\\Users\\junni\\anaconda3\\Lib\\site-packages\\sklearn\\preprocessing\\_data.py\", line 914, in partial_fit\n    X = self._validate_data(\n        ^^^^^^^^^^^^^^^^^^^^\n  File \"c:\\Users\\junni\\anaconda3\\Lib\\site-packages\\sklearn\\base.py\", line 633, in _validate_data\n    out = check_array(X, input_name=\"X\", **check_params)\n          ^^^^^^^^^^^^^^^^^^^^^^^^^^^^^^^^^^^^^^^^^^^^^^\n  File \"c:\\Users\\junni\\anaconda3\\Lib\\site-packages\\sklearn\\utils\\validation.py\", line 1012, in check_array\n    array = _asarray_with_order(array, order=order, dtype=dtype, xp=xp)\n            ^^^^^^^^^^^^^^^^^^^^^^^^^^^^^^^^^^^^^^^^^^^^^^^^^^^^^^^^^^^\n  File \"c:\\Users\\junni\\anaconda3\\Lib\\site-packages\\sklearn\\utils\\_array_api.py\", line 751, in _asarray_with_order\n    array = numpy.asarray(array, order=order, dtype=dtype)\n            ^^^^^^^^^^^^^^^^^^^^^^^^^^^^^^^^^^^^^^^^^^^^^^\n  File \"c:\\Users\\junni\\anaconda3\\Lib\\site-packages\\pandas\\core\\generic.py\", line 2153, in __array__\n    arr = np.asarray(values, dtype=dtype)\n          ^^^^^^^^^^^^^^^^^^^^^^^^^^^^^^^\nValueError: could not convert string to float: 'Travel_Rarely'\n",
          "output_type": "error",
          "traceback": [
            "\u001b[1;31m---------------------------------------------------------------------------\u001b[0m",
            "\u001b[1;31mValueError\u001b[0m                                Traceback (most recent call last)",
            "Cell \u001b[1;32mIn[20], line 1\u001b[0m\n\u001b[1;32m----> 1\u001b[0m logreg_cv_score_roc \u001b[38;5;241m=\u001b[39m cross_val_score(logreg_pipeline, x, y, cv\u001b[38;5;241m=\u001b[39m\u001b[38;5;241m5\u001b[39m, scoring\u001b[38;5;241m=\u001b[39m\u001b[38;5;124m'\u001b[39m\u001b[38;5;124mroc_auc\u001b[39m\u001b[38;5;124m'\u001b[39m)\u001b[38;5;241m*\u001b[39m\u001b[38;5;241m100\u001b[39m\n\u001b[0;32m      2\u001b[0m logreg_cv_score_roc\u001b[38;5;241m.\u001b[39mmean()\n",
            "File \u001b[1;32mc:\\Users\\junni\\anaconda3\\Lib\\site-packages\\sklearn\\utils\\_param_validation.py:213\u001b[0m, in \u001b[0;36mvalidate_params.<locals>.decorator.<locals>.wrapper\u001b[1;34m(*args, **kwargs)\u001b[0m\n\u001b[0;32m    207\u001b[0m \u001b[38;5;28;01mtry\u001b[39;00m:\n\u001b[0;32m    208\u001b[0m     \u001b[38;5;28;01mwith\u001b[39;00m config_context(\n\u001b[0;32m    209\u001b[0m         skip_parameter_validation\u001b[38;5;241m=\u001b[39m(\n\u001b[0;32m    210\u001b[0m             prefer_skip_nested_validation \u001b[38;5;129;01mor\u001b[39;00m global_skip_validation\n\u001b[0;32m    211\u001b[0m         )\n\u001b[0;32m    212\u001b[0m     ):\n\u001b[1;32m--> 213\u001b[0m         \u001b[38;5;28;01mreturn\u001b[39;00m func(\u001b[38;5;241m*\u001b[39margs, \u001b[38;5;241m*\u001b[39m\u001b[38;5;241m*\u001b[39mkwargs)\n\u001b[0;32m    214\u001b[0m \u001b[38;5;28;01mexcept\u001b[39;00m InvalidParameterError \u001b[38;5;28;01mas\u001b[39;00m e:\n\u001b[0;32m    215\u001b[0m     \u001b[38;5;66;03m# When the function is just a wrapper around an estimator, we allow\u001b[39;00m\n\u001b[0;32m    216\u001b[0m     \u001b[38;5;66;03m# the function to delegate validation to the estimator, but we replace\u001b[39;00m\n\u001b[0;32m    217\u001b[0m     \u001b[38;5;66;03m# the name of the estimator by the name of the function in the error\u001b[39;00m\n\u001b[0;32m    218\u001b[0m     \u001b[38;5;66;03m# message to avoid confusion.\u001b[39;00m\n\u001b[0;32m    219\u001b[0m     msg \u001b[38;5;241m=\u001b[39m re\u001b[38;5;241m.\u001b[39msub(\n\u001b[0;32m    220\u001b[0m         \u001b[38;5;124mr\u001b[39m\u001b[38;5;124m\"\u001b[39m\u001b[38;5;124mparameter of \u001b[39m\u001b[38;5;124m\\\u001b[39m\u001b[38;5;124mw+ must be\u001b[39m\u001b[38;5;124m\"\u001b[39m,\n\u001b[0;32m    221\u001b[0m         \u001b[38;5;124mf\u001b[39m\u001b[38;5;124m\"\u001b[39m\u001b[38;5;124mparameter of \u001b[39m\u001b[38;5;132;01m{\u001b[39;00mfunc\u001b[38;5;241m.\u001b[39m\u001b[38;5;18m__qualname__\u001b[39m\u001b[38;5;132;01m}\u001b[39;00m\u001b[38;5;124m must be\u001b[39m\u001b[38;5;124m\"\u001b[39m,\n\u001b[0;32m    222\u001b[0m         \u001b[38;5;28mstr\u001b[39m(e),\n\u001b[0;32m    223\u001b[0m     )\n",
            "File \u001b[1;32mc:\\Users\\junni\\anaconda3\\Lib\\site-packages\\sklearn\\model_selection\\_validation.py:712\u001b[0m, in \u001b[0;36mcross_val_score\u001b[1;34m(estimator, X, y, groups, scoring, cv, n_jobs, verbose, fit_params, params, pre_dispatch, error_score)\u001b[0m\n\u001b[0;32m    709\u001b[0m \u001b[38;5;66;03m# To ensure multimetric format is not supported\u001b[39;00m\n\u001b[0;32m    710\u001b[0m scorer \u001b[38;5;241m=\u001b[39m check_scoring(estimator, scoring\u001b[38;5;241m=\u001b[39mscoring)\n\u001b[1;32m--> 712\u001b[0m cv_results \u001b[38;5;241m=\u001b[39m cross_validate(\n\u001b[0;32m    713\u001b[0m     estimator\u001b[38;5;241m=\u001b[39mestimator,\n\u001b[0;32m    714\u001b[0m     X\u001b[38;5;241m=\u001b[39mX,\n\u001b[0;32m    715\u001b[0m     y\u001b[38;5;241m=\u001b[39my,\n\u001b[0;32m    716\u001b[0m     groups\u001b[38;5;241m=\u001b[39mgroups,\n\u001b[0;32m    717\u001b[0m     scoring\u001b[38;5;241m=\u001b[39m{\u001b[38;5;124m\"\u001b[39m\u001b[38;5;124mscore\u001b[39m\u001b[38;5;124m\"\u001b[39m: scorer},\n\u001b[0;32m    718\u001b[0m     cv\u001b[38;5;241m=\u001b[39mcv,\n\u001b[0;32m    719\u001b[0m     n_jobs\u001b[38;5;241m=\u001b[39mn_jobs,\n\u001b[0;32m    720\u001b[0m     verbose\u001b[38;5;241m=\u001b[39mverbose,\n\u001b[0;32m    721\u001b[0m     fit_params\u001b[38;5;241m=\u001b[39mfit_params,\n\u001b[0;32m    722\u001b[0m     params\u001b[38;5;241m=\u001b[39mparams,\n\u001b[0;32m    723\u001b[0m     pre_dispatch\u001b[38;5;241m=\u001b[39mpre_dispatch,\n\u001b[0;32m    724\u001b[0m     error_score\u001b[38;5;241m=\u001b[39merror_score,\n\u001b[0;32m    725\u001b[0m )\n\u001b[0;32m    726\u001b[0m \u001b[38;5;28;01mreturn\u001b[39;00m cv_results[\u001b[38;5;124m\"\u001b[39m\u001b[38;5;124mtest_score\u001b[39m\u001b[38;5;124m\"\u001b[39m]\n",
            "File \u001b[1;32mc:\\Users\\junni\\anaconda3\\Lib\\site-packages\\sklearn\\utils\\_param_validation.py:213\u001b[0m, in \u001b[0;36mvalidate_params.<locals>.decorator.<locals>.wrapper\u001b[1;34m(*args, **kwargs)\u001b[0m\n\u001b[0;32m    207\u001b[0m \u001b[38;5;28;01mtry\u001b[39;00m:\n\u001b[0;32m    208\u001b[0m     \u001b[38;5;28;01mwith\u001b[39;00m config_context(\n\u001b[0;32m    209\u001b[0m         skip_parameter_validation\u001b[38;5;241m=\u001b[39m(\n\u001b[0;32m    210\u001b[0m             prefer_skip_nested_validation \u001b[38;5;129;01mor\u001b[39;00m global_skip_validation\n\u001b[0;32m    211\u001b[0m         )\n\u001b[0;32m    212\u001b[0m     ):\n\u001b[1;32m--> 213\u001b[0m         \u001b[38;5;28;01mreturn\u001b[39;00m func(\u001b[38;5;241m*\u001b[39margs, \u001b[38;5;241m*\u001b[39m\u001b[38;5;241m*\u001b[39mkwargs)\n\u001b[0;32m    214\u001b[0m \u001b[38;5;28;01mexcept\u001b[39;00m InvalidParameterError \u001b[38;5;28;01mas\u001b[39;00m e:\n\u001b[0;32m    215\u001b[0m     \u001b[38;5;66;03m# When the function is just a wrapper around an estimator, we allow\u001b[39;00m\n\u001b[0;32m    216\u001b[0m     \u001b[38;5;66;03m# the function to delegate validation to the estimator, but we replace\u001b[39;00m\n\u001b[0;32m    217\u001b[0m     \u001b[38;5;66;03m# the name of the estimator by the name of the function in the error\u001b[39;00m\n\u001b[0;32m    218\u001b[0m     \u001b[38;5;66;03m# message to avoid confusion.\u001b[39;00m\n\u001b[0;32m    219\u001b[0m     msg \u001b[38;5;241m=\u001b[39m re\u001b[38;5;241m.\u001b[39msub(\n\u001b[0;32m    220\u001b[0m         \u001b[38;5;124mr\u001b[39m\u001b[38;5;124m\"\u001b[39m\u001b[38;5;124mparameter of \u001b[39m\u001b[38;5;124m\\\u001b[39m\u001b[38;5;124mw+ must be\u001b[39m\u001b[38;5;124m\"\u001b[39m,\n\u001b[0;32m    221\u001b[0m         \u001b[38;5;124mf\u001b[39m\u001b[38;5;124m\"\u001b[39m\u001b[38;5;124mparameter of \u001b[39m\u001b[38;5;132;01m{\u001b[39;00mfunc\u001b[38;5;241m.\u001b[39m\u001b[38;5;18m__qualname__\u001b[39m\u001b[38;5;132;01m}\u001b[39;00m\u001b[38;5;124m must be\u001b[39m\u001b[38;5;124m\"\u001b[39m,\n\u001b[0;32m    222\u001b[0m         \u001b[38;5;28mstr\u001b[39m(e),\n\u001b[0;32m    223\u001b[0m     )\n",
            "File \u001b[1;32mc:\\Users\\junni\\anaconda3\\Lib\\site-packages\\sklearn\\model_selection\\_validation.py:443\u001b[0m, in \u001b[0;36mcross_validate\u001b[1;34m(estimator, X, y, groups, scoring, cv, n_jobs, verbose, fit_params, params, pre_dispatch, return_train_score, return_estimator, return_indices, error_score)\u001b[0m\n\u001b[0;32m    422\u001b[0m parallel \u001b[38;5;241m=\u001b[39m Parallel(n_jobs\u001b[38;5;241m=\u001b[39mn_jobs, verbose\u001b[38;5;241m=\u001b[39mverbose, pre_dispatch\u001b[38;5;241m=\u001b[39mpre_dispatch)\n\u001b[0;32m    423\u001b[0m results \u001b[38;5;241m=\u001b[39m parallel(\n\u001b[0;32m    424\u001b[0m     delayed(_fit_and_score)(\n\u001b[0;32m    425\u001b[0m         clone(estimator),\n\u001b[1;32m   (...)\u001b[0m\n\u001b[0;32m    440\u001b[0m     \u001b[38;5;28;01mfor\u001b[39;00m train, test \u001b[38;5;129;01min\u001b[39;00m indices\n\u001b[0;32m    441\u001b[0m )\n\u001b[1;32m--> 443\u001b[0m _warn_or_raise_about_fit_failures(results, error_score)\n\u001b[0;32m    445\u001b[0m \u001b[38;5;66;03m# For callable scoring, the return type is only know after calling. If the\u001b[39;00m\n\u001b[0;32m    446\u001b[0m \u001b[38;5;66;03m# return type is a dictionary, the error scores can now be inserted with\u001b[39;00m\n\u001b[0;32m    447\u001b[0m \u001b[38;5;66;03m# the correct key.\u001b[39;00m\n\u001b[0;32m    448\u001b[0m \u001b[38;5;28;01mif\u001b[39;00m \u001b[38;5;28mcallable\u001b[39m(scoring):\n",
            "File \u001b[1;32mc:\\Users\\junni\\anaconda3\\Lib\\site-packages\\sklearn\\model_selection\\_validation.py:529\u001b[0m, in \u001b[0;36m_warn_or_raise_about_fit_failures\u001b[1;34m(results, error_score)\u001b[0m\n\u001b[0;32m    522\u001b[0m \u001b[38;5;28;01mif\u001b[39;00m num_failed_fits \u001b[38;5;241m==\u001b[39m num_fits:\n\u001b[0;32m    523\u001b[0m     all_fits_failed_message \u001b[38;5;241m=\u001b[39m (\n\u001b[0;32m    524\u001b[0m         \u001b[38;5;124mf\u001b[39m\u001b[38;5;124m\"\u001b[39m\u001b[38;5;130;01m\\n\u001b[39;00m\u001b[38;5;124mAll the \u001b[39m\u001b[38;5;132;01m{\u001b[39;00mnum_fits\u001b[38;5;132;01m}\u001b[39;00m\u001b[38;5;124m fits failed.\u001b[39m\u001b[38;5;130;01m\\n\u001b[39;00m\u001b[38;5;124m\"\u001b[39m\n\u001b[0;32m    525\u001b[0m         \u001b[38;5;124m\"\u001b[39m\u001b[38;5;124mIt is very likely that your model is misconfigured.\u001b[39m\u001b[38;5;130;01m\\n\u001b[39;00m\u001b[38;5;124m\"\u001b[39m\n\u001b[0;32m    526\u001b[0m         \u001b[38;5;124m\"\u001b[39m\u001b[38;5;124mYou can try to debug the error by setting error_score=\u001b[39m\u001b[38;5;124m'\u001b[39m\u001b[38;5;124mraise\u001b[39m\u001b[38;5;124m'\u001b[39m\u001b[38;5;124m.\u001b[39m\u001b[38;5;130;01m\\n\u001b[39;00m\u001b[38;5;130;01m\\n\u001b[39;00m\u001b[38;5;124m\"\u001b[39m\n\u001b[0;32m    527\u001b[0m         \u001b[38;5;124mf\u001b[39m\u001b[38;5;124m\"\u001b[39m\u001b[38;5;124mBelow are more details about the failures:\u001b[39m\u001b[38;5;130;01m\\n\u001b[39;00m\u001b[38;5;132;01m{\u001b[39;00mfit_errors_summary\u001b[38;5;132;01m}\u001b[39;00m\u001b[38;5;124m\"\u001b[39m\n\u001b[0;32m    528\u001b[0m     )\n\u001b[1;32m--> 529\u001b[0m     \u001b[38;5;28;01mraise\u001b[39;00m \u001b[38;5;167;01mValueError\u001b[39;00m(all_fits_failed_message)\n\u001b[0;32m    531\u001b[0m \u001b[38;5;28;01melse\u001b[39;00m:\n\u001b[0;32m    532\u001b[0m     some_fits_failed_message \u001b[38;5;241m=\u001b[39m (\n\u001b[0;32m    533\u001b[0m         \u001b[38;5;124mf\u001b[39m\u001b[38;5;124m\"\u001b[39m\u001b[38;5;130;01m\\n\u001b[39;00m\u001b[38;5;132;01m{\u001b[39;00mnum_failed_fits\u001b[38;5;132;01m}\u001b[39;00m\u001b[38;5;124m fits failed out of a total of \u001b[39m\u001b[38;5;132;01m{\u001b[39;00mnum_fits\u001b[38;5;132;01m}\u001b[39;00m\u001b[38;5;124m.\u001b[39m\u001b[38;5;130;01m\\n\u001b[39;00m\u001b[38;5;124m\"\u001b[39m\n\u001b[0;32m    534\u001b[0m         \u001b[38;5;124m\"\u001b[39m\u001b[38;5;124mThe score on these train-test partitions for these parameters\u001b[39m\u001b[38;5;124m\"\u001b[39m\n\u001b[1;32m   (...)\u001b[0m\n\u001b[0;32m    538\u001b[0m         \u001b[38;5;124mf\u001b[39m\u001b[38;5;124m\"\u001b[39m\u001b[38;5;124mBelow are more details about the failures:\u001b[39m\u001b[38;5;130;01m\\n\u001b[39;00m\u001b[38;5;132;01m{\u001b[39;00mfit_errors_summary\u001b[38;5;132;01m}\u001b[39;00m\u001b[38;5;124m\"\u001b[39m\n\u001b[0;32m    539\u001b[0m     )\n",
            "\u001b[1;31mValueError\u001b[0m: \nAll the 5 fits failed.\nIt is very likely that your model is misconfigured.\nYou can try to debug the error by setting error_score='raise'.\n\nBelow are more details about the failures:\n--------------------------------------------------------------------------------\n1 fits failed with the following error:\nTraceback (most recent call last):\n  File \"c:\\Users\\junni\\anaconda3\\Lib\\site-packages\\sklearn\\model_selection\\_validation.py\", line 888, in _fit_and_score\n    estimator.fit(X_train, y_train, **fit_params)\n  File \"c:\\Users\\junni\\anaconda3\\Lib\\site-packages\\sklearn\\base.py\", line 1473, in wrapper\n    return fit_method(estimator, *args, **kwargs)\n           ^^^^^^^^^^^^^^^^^^^^^^^^^^^^^^^^^^^^^^\n  File \"c:\\Users\\junni\\anaconda3\\Lib\\site-packages\\sklearn\\pipeline.py\", line 469, in fit\n    Xt = self._fit(X, y, routed_params)\n         ^^^^^^^^^^^^^^^^^^^^^^^^^^^^^^\n  File \"c:\\Users\\junni\\anaconda3\\Lib\\site-packages\\sklearn\\pipeline.py\", line 406, in _fit\n    X, fitted_transformer = fit_transform_one_cached(\n                            ^^^^^^^^^^^^^^^^^^^^^^^^^\n  File \"c:\\Users\\junni\\anaconda3\\Lib\\site-packages\\joblib\\memory.py\", line 312, in __call__\n    return self.func(*args, **kwargs)\n           ^^^^^^^^^^^^^^^^^^^^^^^^^^\n  File \"c:\\Users\\junni\\anaconda3\\Lib\\site-packages\\sklearn\\pipeline.py\", line 1310, in _fit_transform_one\n    res = transformer.fit_transform(X, y, **params.get(\"fit_transform\", {}))\n          ^^^^^^^^^^^^^^^^^^^^^^^^^^^^^^^^^^^^^^^^^^^^^^^^^^^^^^^^^^^^^^^^^^\n  File \"c:\\Users\\junni\\anaconda3\\Lib\\site-packages\\sklearn\\utils\\_set_output.py\", line 313, in wrapped\n    data_to_wrap = f(self, X, *args, **kwargs)\n                   ^^^^^^^^^^^^^^^^^^^^^^^^^^^\n  File \"c:\\Users\\junni\\anaconda3\\Lib\\site-packages\\sklearn\\base.py\", line 1101, in fit_transform\n    return self.fit(X, y, **fit_params).transform(X)\n           ^^^^^^^^^^^^^^^^^^^^^^^^^^^^\n  File \"c:\\Users\\junni\\anaconda3\\Lib\\site-packages\\sklearn\\preprocessing\\_data.py\", line 878, in fit\n    return self.partial_fit(X, y, sample_weight)\n           ^^^^^^^^^^^^^^^^^^^^^^^^^^^^^^^^^^^^^\n  File \"c:\\Users\\junni\\anaconda3\\Lib\\site-packages\\sklearn\\base.py\", line 1473, in wrapper\n    return fit_method(estimator, *args, **kwargs)\n           ^^^^^^^^^^^^^^^^^^^^^^^^^^^^^^^^^^^^^^\n  File \"c:\\Users\\junni\\anaconda3\\Lib\\site-packages\\sklearn\\preprocessing\\_data.py\", line 914, in partial_fit\n    X = self._validate_data(\n        ^^^^^^^^^^^^^^^^^^^^\n  File \"c:\\Users\\junni\\anaconda3\\Lib\\site-packages\\sklearn\\base.py\", line 633, in _validate_data\n    out = check_array(X, input_name=\"X\", **check_params)\n          ^^^^^^^^^^^^^^^^^^^^^^^^^^^^^^^^^^^^^^^^^^^^^^\n  File \"c:\\Users\\junni\\anaconda3\\Lib\\site-packages\\sklearn\\utils\\validation.py\", line 1012, in check_array\n    array = _asarray_with_order(array, order=order, dtype=dtype, xp=xp)\n            ^^^^^^^^^^^^^^^^^^^^^^^^^^^^^^^^^^^^^^^^^^^^^^^^^^^^^^^^^^^\n  File \"c:\\Users\\junni\\anaconda3\\Lib\\site-packages\\sklearn\\utils\\_array_api.py\", line 751, in _asarray_with_order\n    array = numpy.asarray(array, order=order, dtype=dtype)\n            ^^^^^^^^^^^^^^^^^^^^^^^^^^^^^^^^^^^^^^^^^^^^^^\n  File \"c:\\Users\\junni\\anaconda3\\Lib\\site-packages\\pandas\\core\\generic.py\", line 2153, in __array__\n    arr = np.asarray(values, dtype=dtype)\n          ^^^^^^^^^^^^^^^^^^^^^^^^^^^^^^^\nValueError: could not convert string to float: 'Travel_Frequently'\n\n--------------------------------------------------------------------------------\n4 fits failed with the following error:\nTraceback (most recent call last):\n  File \"c:\\Users\\junni\\anaconda3\\Lib\\site-packages\\sklearn\\model_selection\\_validation.py\", line 888, in _fit_and_score\n    estimator.fit(X_train, y_train, **fit_params)\n  File \"c:\\Users\\junni\\anaconda3\\Lib\\site-packages\\sklearn\\base.py\", line 1473, in wrapper\n    return fit_method(estimator, *args, **kwargs)\n           ^^^^^^^^^^^^^^^^^^^^^^^^^^^^^^^^^^^^^^\n  File \"c:\\Users\\junni\\anaconda3\\Lib\\site-packages\\sklearn\\pipeline.py\", line 469, in fit\n    Xt = self._fit(X, y, routed_params)\n         ^^^^^^^^^^^^^^^^^^^^^^^^^^^^^^\n  File \"c:\\Users\\junni\\anaconda3\\Lib\\site-packages\\sklearn\\pipeline.py\", line 406, in _fit\n    X, fitted_transformer = fit_transform_one_cached(\n                            ^^^^^^^^^^^^^^^^^^^^^^^^^\n  File \"c:\\Users\\junni\\anaconda3\\Lib\\site-packages\\joblib\\memory.py\", line 312, in __call__\n    return self.func(*args, **kwargs)\n           ^^^^^^^^^^^^^^^^^^^^^^^^^^\n  File \"c:\\Users\\junni\\anaconda3\\Lib\\site-packages\\sklearn\\pipeline.py\", line 1310, in _fit_transform_one\n    res = transformer.fit_transform(X, y, **params.get(\"fit_transform\", {}))\n          ^^^^^^^^^^^^^^^^^^^^^^^^^^^^^^^^^^^^^^^^^^^^^^^^^^^^^^^^^^^^^^^^^^\n  File \"c:\\Users\\junni\\anaconda3\\Lib\\site-packages\\sklearn\\utils\\_set_output.py\", line 313, in wrapped\n    data_to_wrap = f(self, X, *args, **kwargs)\n                   ^^^^^^^^^^^^^^^^^^^^^^^^^^^\n  File \"c:\\Users\\junni\\anaconda3\\Lib\\site-packages\\sklearn\\base.py\", line 1101, in fit_transform\n    return self.fit(X, y, **fit_params).transform(X)\n           ^^^^^^^^^^^^^^^^^^^^^^^^^^^^\n  File \"c:\\Users\\junni\\anaconda3\\Lib\\site-packages\\sklearn\\preprocessing\\_data.py\", line 878, in fit\n    return self.partial_fit(X, y, sample_weight)\n           ^^^^^^^^^^^^^^^^^^^^^^^^^^^^^^^^^^^^^\n  File \"c:\\Users\\junni\\anaconda3\\Lib\\site-packages\\sklearn\\base.py\", line 1473, in wrapper\n    return fit_method(estimator, *args, **kwargs)\n           ^^^^^^^^^^^^^^^^^^^^^^^^^^^^^^^^^^^^^^\n  File \"c:\\Users\\junni\\anaconda3\\Lib\\site-packages\\sklearn\\preprocessing\\_data.py\", line 914, in partial_fit\n    X = self._validate_data(\n        ^^^^^^^^^^^^^^^^^^^^\n  File \"c:\\Users\\junni\\anaconda3\\Lib\\site-packages\\sklearn\\base.py\", line 633, in _validate_data\n    out = check_array(X, input_name=\"X\", **check_params)\n          ^^^^^^^^^^^^^^^^^^^^^^^^^^^^^^^^^^^^^^^^^^^^^^\n  File \"c:\\Users\\junni\\anaconda3\\Lib\\site-packages\\sklearn\\utils\\validation.py\", line 1012, in check_array\n    array = _asarray_with_order(array, order=order, dtype=dtype, xp=xp)\n            ^^^^^^^^^^^^^^^^^^^^^^^^^^^^^^^^^^^^^^^^^^^^^^^^^^^^^^^^^^^\n  File \"c:\\Users\\junni\\anaconda3\\Lib\\site-packages\\sklearn\\utils\\_array_api.py\", line 751, in _asarray_with_order\n    array = numpy.asarray(array, order=order, dtype=dtype)\n            ^^^^^^^^^^^^^^^^^^^^^^^^^^^^^^^^^^^^^^^^^^^^^^\n  File \"c:\\Users\\junni\\anaconda3\\Lib\\site-packages\\pandas\\core\\generic.py\", line 2153, in __array__\n    arr = np.asarray(values, dtype=dtype)\n          ^^^^^^^^^^^^^^^^^^^^^^^^^^^^^^^\nValueError: could not convert string to float: 'Travel_Rarely'\n"
          ]
        }
      ],
      "source": [
        "logreg_cv_score_roc = cross_val_score(logreg_pipeline, x, y, cv=5, scoring='roc_auc')*100\n",
        "logreg_cv_score_roc.mean()"
      ]
    },
    {
      "cell_type": "markdown",
      "metadata": {
        "id": "m8B7pF4k0YIZ"
      },
      "source": [
        "### F1"
      ]
    },
    {
      "cell_type": "code",
      "execution_count": null,
      "metadata": {
        "colab": {
          "base_uri": "https://localhost:8080/"
        },
        "id": "YiMGEHPbzVcH",
        "outputId": "e355dd90-3cac-4dac-cd50-7b05be0bb847"
      },
      "outputs": [
        {
          "data": {
            "text/plain": [
              "69.51329974421228"
            ]
          },
          "execution_count": 18,
          "metadata": {},
          "output_type": "execute_result"
        }
      ],
      "source": [
        "logreg_cv_score_f1 = cross_val_score(logreg_pipeline, x, y, cv=5, scoring='f1_weighted')*100\n",
        "logreg_cv_score_f1.mean()\n"
      ]
    },
    {
      "cell_type": "markdown",
      "metadata": {
        "id": "-ifaP8Um0jAc"
      },
      "source": [
        "### Accuracy"
      ]
    },
    {
      "cell_type": "code",
      "execution_count": null,
      "metadata": {
        "colab": {
          "base_uri": "https://localhost:8080/"
        },
        "id": "CVq8H9Ei0lMP",
        "outputId": "8e4e2bb9-0540-4243-ab0e-e9143a215c01"
      },
      "outputs": [
        {
          "data": {
            "text/plain": [
              "71.69354838709677"
            ]
          },
          "execution_count": 19,
          "metadata": {},
          "output_type": "execute_result"
        }
      ],
      "source": [
        "logreg_cv_score_accuracy = cross_val_score(logreg_pipeline, x, y, cv=5, scoring='accuracy')*100\n",
        "logreg_cv_score_accuracy.mean()\n"
      ]
    },
    {
      "cell_type": "markdown",
      "metadata": {
        "id": "PQ-FPy2N08Il"
      },
      "source": [
        "### Recall"
      ]
    },
    {
      "cell_type": "code",
      "execution_count": null,
      "metadata": {
        "colab": {
          "base_uri": "https://localhost:8080/"
        },
        "id": "ngmaaxuk0_Kc",
        "outputId": "0d3659d3-ce97-4613-efcd-d7f037eb36a7"
      },
      "outputs": [
        {
          "data": {
            "text/plain": [
              "71.69354838709677"
            ]
          },
          "execution_count": 20,
          "metadata": {},
          "output_type": "execute_result"
        }
      ],
      "source": [
        "logreg_cv_score_recall = cross_val_score(logreg_pipeline, x, y, cv=5, scoring='recall_weighted')*100\n",
        "logreg_cv_score_recall.mean()"
      ]
    },
    {
      "cell_type": "markdown",
      "metadata": {
        "id": "Nokahufj1VQi"
      },
      "source": [
        "### Precision"
      ]
    },
    {
      "cell_type": "code",
      "execution_count": null,
      "metadata": {
        "colab": {
          "base_uri": "https://localhost:8080/"
        },
        "id": "tGL_3J9Q1Yuc",
        "outputId": "1360aa48-99e9-4af7-f951-4d1d30e7f463"
      },
      "outputs": [
        {
          "data": {
            "text/plain": [
              "72.53692416959848"
            ]
          },
          "execution_count": 21,
          "metadata": {},
          "output_type": "execute_result"
        }
      ],
      "source": [
        "logreg_cv_score_precision = cross_val_score(logreg_pipeline, x, y, cv=5, scoring='precision_weighted')*100\n",
        "logreg_cv_score_precision.mean()"
      ]
    },
    {
      "cell_type": "markdown",
      "metadata": {
        "id": "dgK4Zewa1nrL"
      },
      "source": [
        "# Decision Tree Scoring"
      ]
    },
    {
      "cell_type": "markdown",
      "metadata": {
        "id": "zk6nLPcn1uOU"
      },
      "source": [
        "### ROC_AUC"
      ]
    },
    {
      "cell_type": "code",
      "execution_count": null,
      "metadata": {
        "colab": {
          "base_uri": "https://localhost:8080/"
        },
        "id": "TPbWJ4EWvdBv",
        "outputId": "5120bb72-bbe5-40be-b345-107614cead30"
      },
      "outputs": [
        {
          "data": {
            "text/plain": [
              "83.15238095238094"
            ]
          },
          "execution_count": 22,
          "metadata": {},
          "output_type": "execute_result"
        }
      ],
      "source": [
        "decisiontree_cv_score = cross_val_score(decisiontree_pipeline, x, y, cv=5, scoring='roc_auc')*100\n",
        "decisiontree_cv_score.mean()"
      ]
    },
    {
      "cell_type": "markdown",
      "metadata": {
        "id": "HHriQR5J1zoR"
      },
      "source": [
        "### F1"
      ]
    },
    {
      "cell_type": "code",
      "execution_count": null,
      "metadata": {
        "colab": {
          "base_uri": "https://localhost:8080/"
        },
        "id": "GpOItX3M11tD",
        "outputId": "da1b2c7d-82d1-4492-cc4f-229b00465fe6"
      },
      "outputs": [
        {
          "data": {
            "text/plain": [
              "58.12280518010569"
            ]
          },
          "execution_count": 23,
          "metadata": {},
          "output_type": "execute_result"
        }
      ],
      "source": [
        "decisiontree_cv_score_f1 = cross_val_score(decisiontree_pipeline, x, y, cv=5, scoring='f1_weighted')*100\n",
        "decisiontree_cv_score_f1.mean()"
      ]
    },
    {
      "cell_type": "markdown",
      "metadata": {
        "id": "JDT68nB_2F-n"
      },
      "source": [
        "### Accuracy"
      ]
    },
    {
      "cell_type": "code",
      "execution_count": null,
      "metadata": {
        "colab": {
          "base_uri": "https://localhost:8080/"
        },
        "id": "2MeRGin52HSD",
        "outputId": "b8e72b5b-660c-4ac0-80f0-6823700972cd"
      },
      "outputs": [
        {
          "data": {
            "text/plain": [
              "66.59274193548387"
            ]
          },
          "execution_count": 24,
          "metadata": {},
          "output_type": "execute_result"
        }
      ],
      "source": [
        "decisiontree_cv_score_accuracy = cross_val_score(decisiontree_pipeline, x, y, cv=5, scoring='accuracy')*100\n",
        "decisiontree_cv_score_accuracy.mean()"
      ]
    },
    {
      "cell_type": "markdown",
      "metadata": {
        "id": "qXPKoIor2SkE"
      },
      "source": [
        "### Recall"
      ]
    },
    {
      "cell_type": "code",
      "execution_count": null,
      "metadata": {
        "colab": {
          "base_uri": "https://localhost:8080/"
        },
        "id": "cN0wxSqm2TR0",
        "outputId": "16494d43-de74-422d-e806-18cfa83a2cde"
      },
      "outputs": [
        {
          "data": {
            "text/plain": [
              "66.59274193548387"
            ]
          },
          "execution_count": 25,
          "metadata": {},
          "output_type": "execute_result"
        }
      ],
      "source": [
        "decisiontree_cv_score_recall = cross_val_score(decisiontree_pipeline, x, y, cv=5, scoring='recall_weighted')*100\n",
        "decisiontree_cv_score_recall.mean()"
      ]
    },
    {
      "cell_type": "markdown",
      "metadata": {
        "id": "cQ74eQAG2j7H"
      },
      "source": [
        "### Precision"
      ]
    },
    {
      "cell_type": "code",
      "execution_count": null,
      "metadata": {
        "colab": {
          "base_uri": "https://localhost:8080/"
        },
        "id": "nd8ht6N_2lhy",
        "outputId": "fd3a1333-4cec-4862-8ecf-f0d48a24e216"
      },
      "outputs": [
        {
          "data": {
            "text/plain": [
              "53.060309085587924"
            ]
          },
          "execution_count": 26,
          "metadata": {},
          "output_type": "execute_result"
        }
      ],
      "source": [
        "decisiontree_cv_score_precision = cross_val_score(decisiontree_pipeline, x, y, cv=5, scoring='precision_weighted')*100\n",
        "decisiontree_cv_score_precision.mean()"
      ]
    },
    {
      "cell_type": "markdown",
      "metadata": {
        "id": "aYUOSvyU2xK5"
      },
      "source": [
        "# Random Forest Scoring"
      ]
    },
    {
      "cell_type": "markdown",
      "metadata": {
        "id": "_MILLW3q20yj"
      },
      "source": [
        "### ROC_AUC"
      ]
    },
    {
      "cell_type": "code",
      "execution_count": null,
      "metadata": {
        "colab": {
          "base_uri": "https://localhost:8080/"
        },
        "id": "zHA_KP-tvf_4",
        "outputId": "a9c64c87-254b-4c38-f28d-18b1bb43a765"
      },
      "outputs": [
        {
          "data": {
            "text/plain": [
              "77.57857142857142"
            ]
          },
          "execution_count": 27,
          "metadata": {},
          "output_type": "execute_result"
        }
      ],
      "source": [
        "randomforest_cv_score_roc = cross_val_score(randomforest_pipeline, x, y, cv=5, scoring='roc_auc')*100\n",
        "randomforest_cv_score_roc.mean()"
      ]
    },
    {
      "cell_type": "markdown",
      "metadata": {
        "id": "DQnD-2u82-cU"
      },
      "source": [
        "### F1"
      ]
    },
    {
      "cell_type": "code",
      "execution_count": null,
      "metadata": {
        "colab": {
          "base_uri": "https://localhost:8080/"
        },
        "id": "rbl5uG6-2_UO",
        "outputId": "bd771966-0a5f-48de-f885-1b9effaf657e"
      },
      "outputs": [
        {
          "data": {
            "text/plain": [
              "63.01537726537727"
            ]
          },
          "execution_count": 28,
          "metadata": {},
          "output_type": "execute_result"
        }
      ],
      "source": [
        "randomforest_cv_score_f1 = cross_val_score(randomforest_pipeline, x, y, cv=5, scoring='f1_weighted')*100\n",
        "randomforest_cv_score_f1.mean()"
      ]
    },
    {
      "cell_type": "markdown",
      "metadata": {
        "id": "MUd9mAkZ3oHv"
      },
      "source": [
        "### Accuracy"
      ]
    },
    {
      "cell_type": "code",
      "execution_count": null,
      "metadata": {
        "colab": {
          "base_uri": "https://localhost:8080/"
        },
        "id": "jxwu3XHB3p8B",
        "outputId": "ff4607ed-5e75-4d01-cb95-bd4de22ffa1f"
      },
      "outputs": [
        {
          "data": {
            "text/plain": [
              "67.88306451612904"
            ]
          },
          "execution_count": 29,
          "metadata": {},
          "output_type": "execute_result"
        }
      ],
      "source": [
        "randomforest_cv_score_accuracy = cross_val_score(randomforest_pipeline, x, y, cv=5, scoring='accuracy')*100\n",
        "randomforest_cv_score_accuracy.mean()"
      ]
    },
    {
      "cell_type": "markdown",
      "metadata": {
        "id": "Y0nMrCDp3yTf"
      },
      "source": [
        "### Recall"
      ]
    },
    {
      "cell_type": "code",
      "execution_count": null,
      "metadata": {
        "colab": {
          "base_uri": "https://localhost:8080/"
        },
        "id": "yitACQE43zNi",
        "outputId": "8730bbd5-a74c-4de2-f064-d759e0c04890"
      },
      "outputs": [
        {
          "data": {
            "text/plain": [
              "67.88306451612904"
            ]
          },
          "execution_count": 30,
          "metadata": {},
          "output_type": "execute_result"
        }
      ],
      "source": [
        "randomforest_cv_score_recall = cross_val_score(randomforest_pipeline, x, y, cv=5, scoring='recall_weighted')*100\n",
        "randomforest_cv_score_recall.mean()"
      ]
    },
    {
      "cell_type": "markdown",
      "metadata": {
        "id": "K1glWzV93zvE"
      },
      "source": [
        "### Precision"
      ]
    },
    {
      "cell_type": "code",
      "execution_count": null,
      "metadata": {
        "colab": {
          "base_uri": "https://localhost:8080/"
        },
        "id": "quNLG-mJ309O",
        "outputId": "0d47d695-e5be-4b97-ee14-1851f11d99ec"
      },
      "outputs": [
        {
          "data": {
            "text/plain": [
              "64.5728046594982"
            ]
          },
          "execution_count": 31,
          "metadata": {},
          "output_type": "execute_result"
        }
      ],
      "source": [
        "randomforest_cv_score_precision = cross_val_score(randomforest_pipeline, x, y, cv=5, scoring='precision_weighted')*100\n",
        "randomforest_cv_score_precision.mean()"
      ]
    },
    {
      "cell_type": "markdown",
      "metadata": {
        "id": "BRAFUhHo6xLz"
      },
      "source": [
        "# Build a model using the best Parameter"
      ]
    },
    {
      "cell_type": "code",
      "execution_count": null,
      "metadata": {
        "colab": {
          "base_uri": "https://localhost:8080/",
          "height": 92
        },
        "id": "9l6hMpt96aK3",
        "outputId": "c7ba6bed-d4df-475b-bf23-34df2f6418c9"
      },
      "outputs": [
        {
          "data": {
            "text/html": [
              "<style>#sk-container-id-1 {color: black;background-color: white;}#sk-container-id-1 pre{padding: 0;}#sk-container-id-1 div.sk-toggleable {background-color: white;}#sk-container-id-1 label.sk-toggleable__label {cursor: pointer;display: block;width: 100%;margin-bottom: 0;padding: 0.3em;box-sizing: border-box;text-align: center;}#sk-container-id-1 label.sk-toggleable__label-arrow:before {content: \"▸\";float: left;margin-right: 0.25em;color: #696969;}#sk-container-id-1 label.sk-toggleable__label-arrow:hover:before {color: black;}#sk-container-id-1 div.sk-estimator:hover label.sk-toggleable__label-arrow:before {color: black;}#sk-container-id-1 div.sk-toggleable__content {max-height: 0;max-width: 0;overflow: hidden;text-align: left;background-color: #f0f8ff;}#sk-container-id-1 div.sk-toggleable__content pre {margin: 0.2em;color: black;border-radius: 0.25em;background-color: #f0f8ff;}#sk-container-id-1 input.sk-toggleable__control:checked~div.sk-toggleable__content {max-height: 200px;max-width: 100%;overflow: auto;}#sk-container-id-1 input.sk-toggleable__control:checked~label.sk-toggleable__label-arrow:before {content: \"▾\";}#sk-container-id-1 div.sk-estimator input.sk-toggleable__control:checked~label.sk-toggleable__label {background-color: #d4ebff;}#sk-container-id-1 div.sk-label input.sk-toggleable__control:checked~label.sk-toggleable__label {background-color: #d4ebff;}#sk-container-id-1 input.sk-hidden--visually {border: 0;clip: rect(1px 1px 1px 1px);clip: rect(1px, 1px, 1px, 1px);height: 1px;margin: -1px;overflow: hidden;padding: 0;position: absolute;width: 1px;}#sk-container-id-1 div.sk-estimator {font-family: monospace;background-color: #f0f8ff;border: 1px dotted black;border-radius: 0.25em;box-sizing: border-box;margin-bottom: 0.5em;}#sk-container-id-1 div.sk-estimator:hover {background-color: #d4ebff;}#sk-container-id-1 div.sk-parallel-item::after {content: \"\";width: 100%;border-bottom: 1px solid gray;flex-grow: 1;}#sk-container-id-1 div.sk-label:hover label.sk-toggleable__label {background-color: #d4ebff;}#sk-container-id-1 div.sk-serial::before {content: \"\";position: absolute;border-left: 1px solid gray;box-sizing: border-box;top: 0;bottom: 0;left: 50%;z-index: 0;}#sk-container-id-1 div.sk-serial {display: flex;flex-direction: column;align-items: center;background-color: white;padding-right: 0.2em;padding-left: 0.2em;position: relative;}#sk-container-id-1 div.sk-item {position: relative;z-index: 1;}#sk-container-id-1 div.sk-parallel {display: flex;align-items: stretch;justify-content: center;background-color: white;position: relative;}#sk-container-id-1 div.sk-item::before, #sk-container-id-1 div.sk-parallel-item::before {content: \"\";position: absolute;border-left: 1px solid gray;box-sizing: border-box;top: 0;bottom: 0;left: 50%;z-index: -1;}#sk-container-id-1 div.sk-parallel-item {display: flex;flex-direction: column;z-index: 1;position: relative;background-color: white;}#sk-container-id-1 div.sk-parallel-item:first-child::after {align-self: flex-end;width: 50%;}#sk-container-id-1 div.sk-parallel-item:last-child::after {align-self: flex-start;width: 50%;}#sk-container-id-1 div.sk-parallel-item:only-child::after {width: 0;}#sk-container-id-1 div.sk-dashed-wrapped {border: 1px dashed gray;margin: 0 0.4em 0.5em 0.4em;box-sizing: border-box;padding-bottom: 0.4em;background-color: white;}#sk-container-id-1 div.sk-label label {font-family: monospace;font-weight: bold;display: inline-block;line-height: 1.2em;}#sk-container-id-1 div.sk-label-container {text-align: center;}#sk-container-id-1 div.sk-container {/* jupyter's `normalize.less` sets `[hidden] { display: none; }` but bootstrap.min.css set `[hidden] { display: none !important; }` so we also need the `!important` here to be able to override the default hidden behavior on the sphinx rendered scikit-learn.org. See: https://github.com/scikit-learn/scikit-learn/issues/21755 */display: inline-block !important;position: relative;}#sk-container-id-1 div.sk-text-repr-fallback {display: none;}</style><div id=\"sk-container-id-1\" class=\"sk-top-container\"><div class=\"sk-text-repr-fallback\"><pre>DecisionTreeClassifier(max_depth=10, min_samples_leaf=5, min_samples_split=4,\n",
              "                       random_state=30)</pre><b>In a Jupyter environment, please rerun this cell to show the HTML representation or trust the notebook. <br />On GitHub, the HTML representation is unable to render, please try loading this page with nbviewer.org.</b></div><div class=\"sk-container\" hidden><div class=\"sk-item\"><div class=\"sk-estimator sk-toggleable\"><input class=\"sk-toggleable__control sk-hidden--visually\" id=\"sk-estimator-id-1\" type=\"checkbox\" checked><label for=\"sk-estimator-id-1\" class=\"sk-toggleable__label sk-toggleable__label-arrow\">DecisionTreeClassifier</label><div class=\"sk-toggleable__content\"><pre>DecisionTreeClassifier(max_depth=10, min_samples_leaf=5, min_samples_split=4,\n",
              "                       random_state=30)</pre></div></div></div></div></div>"
            ],
            "text/plain": [
              "DecisionTreeClassifier(max_depth=10, min_samples_leaf=5, min_samples_split=4,\n",
              "                       random_state=30)"
            ]
          },
          "execution_count": 32,
          "metadata": {},
          "output_type": "execute_result"
        }
      ],
      "source": [
        "clf_best = DecisionTreeClassifier(criterion=\"gini\", min_samples_split=4, min_samples_leaf=5,\n",
        "            max_depth=10, random_state=30)\n",
        "\n",
        "clf_best.fit(x, y)"
      ]
    },
    {
      "cell_type": "markdown",
      "metadata": {
        "id": "FCDmAGXm7hfc"
      },
      "source": [
        "# Feature Importance"
      ]
    },
    {
      "cell_type": "code",
      "execution_count": null,
      "metadata": {
        "colab": {
          "base_uri": "https://localhost:8080/"
        },
        "id": "qsyiPtHW7jMm",
        "outputId": "27c7c629-942c-472a-c036-ca89533e0d92"
      },
      "outputs": [
        {
          "data": {
            "text/plain": [
              "array([0.87792924, 0.05575919, 0.        , 0.06631157])"
            ]
          },
          "execution_count": 33,
          "metadata": {},
          "output_type": "execute_result"
        }
      ],
      "source": [
        "f_importance = clf_best.feature_importances_\n",
        "f_importance"
      ]
    },
    {
      "cell_type": "code",
      "execution_count": null,
      "metadata": {
        "id": "osKGkRKZ7o3B"
      },
      "outputs": [],
      "source": [
        "#Put into a DataFrame along with Feature Names for easier understanding.\n",
        "f_list = x.columns\n",
        "df_feature_importance = pd.DataFrame(f_importance, index=f_list, columns=[\"Importance\"])"
      ]
    },
    {
      "cell_type": "code",
      "execution_count": null,
      "metadata": {
        "colab": {
          "base_uri": "https://localhost:8080/",
          "height": 175
        },
        "id": "Z-nLzN1r73gj",
        "outputId": "31b558a2-2222-4960-9877-e274d64ea125"
      },
      "outputs": [
        {
          "data": {
            "text/html": [
              "\n",
              "\n",
              "  <div id=\"df-54d079d2-251f-4bc3-a276-333e8d9dff95\">\n",
              "    <div class=\"colab-df-container\">\n",
              "      <div>\n",
              "<style scoped>\n",
              "    .dataframe tbody tr th:only-of-type {\n",
              "        vertical-align: middle;\n",
              "    }\n",
              "\n",
              "    .dataframe tbody tr th {\n",
              "        vertical-align: top;\n",
              "    }\n",
              "\n",
              "    .dataframe thead th {\n",
              "        text-align: right;\n",
              "    }\n",
              "</style>\n",
              "<table border=\"1\" class=\"dataframe\">\n",
              "  <thead>\n",
              "    <tr style=\"text-align: right;\">\n",
              "      <th></th>\n",
              "      <th>Importance</th>\n",
              "    </tr>\n",
              "  </thead>\n",
              "  <tbody>\n",
              "    <tr>\n",
              "      <th>Sick_Leaves_Average</th>\n",
              "      <td>0.88</td>\n",
              "    </tr>\n",
              "    <tr>\n",
              "      <th>Performance_Engagement_Average</th>\n",
              "      <td>0.07</td>\n",
              "    </tr>\n",
              "    <tr>\n",
              "      <th>Self_Assessment_Average</th>\n",
              "      <td>0.06</td>\n",
              "    </tr>\n",
              "    <tr>\n",
              "      <th>Performance_Value_Average</th>\n",
              "      <td>0.00</td>\n",
              "    </tr>\n",
              "  </tbody>\n",
              "</table>\n",
              "</div>\n",
              "      <button class=\"colab-df-convert\" onclick=\"convertToInteractive('df-54d079d2-251f-4bc3-a276-333e8d9dff95')\"\n",
              "              title=\"Convert this dataframe to an interactive table.\"\n",
              "              style=\"display:none;\">\n",
              "\n",
              "  <svg xmlns=\"http://www.w3.org/2000/svg\" height=\"24px\"viewBox=\"0 0 24 24\"\n",
              "       width=\"24px\">\n",
              "    <path d=\"M0 0h24v24H0V0z\" fill=\"none\"/>\n",
              "    <path d=\"M18.56 5.44l.94 2.06.94-2.06 2.06-.94-2.06-.94-.94-2.06-.94 2.06-2.06.94zm-11 1L8.5 8.5l.94-2.06 2.06-.94-2.06-.94L8.5 2.5l-.94 2.06-2.06.94zm10 10l.94 2.06.94-2.06 2.06-.94-2.06-.94-.94-2.06-.94 2.06-2.06.94z\"/><path d=\"M17.41 7.96l-1.37-1.37c-.4-.4-.92-.59-1.43-.59-.52 0-1.04.2-1.43.59L10.3 9.45l-7.72 7.72c-.78.78-.78 2.05 0 2.83L4 21.41c.39.39.9.59 1.41.59.51 0 1.02-.2 1.41-.59l7.78-7.78 2.81-2.81c.8-.78.8-2.07 0-2.86zM5.41 20L4 18.59l7.72-7.72 1.47 1.35L5.41 20z\"/>\n",
              "  </svg>\n",
              "      </button>\n",
              "\n",
              "\n",
              "\n",
              "    <div id=\"df-55fa0ec9-ad96-4b90-bf23-23bbbb338781\">\n",
              "      <button class=\"colab-df-quickchart\" onclick=\"quickchart('df-55fa0ec9-ad96-4b90-bf23-23bbbb338781')\"\n",
              "              title=\"Suggest charts.\"\n",
              "              style=\"display:none;\">\n",
              "\n",
              "<svg xmlns=\"http://www.w3.org/2000/svg\" height=\"24px\"viewBox=\"0 0 24 24\"\n",
              "     width=\"24px\">\n",
              "    <g>\n",
              "        <path d=\"M19 3H5c-1.1 0-2 .9-2 2v14c0 1.1.9 2 2 2h14c1.1 0 2-.9 2-2V5c0-1.1-.9-2-2-2zM9 17H7v-7h2v7zm4 0h-2V7h2v10zm4 0h-2v-4h2v4z\"/>\n",
              "    </g>\n",
              "</svg>\n",
              "      </button>\n",
              "    </div>\n",
              "\n",
              "<style>\n",
              "  .colab-df-quickchart {\n",
              "    background-color: #E8F0FE;\n",
              "    border: none;\n",
              "    border-radius: 50%;\n",
              "    cursor: pointer;\n",
              "    display: none;\n",
              "    fill: #1967D2;\n",
              "    height: 32px;\n",
              "    padding: 0 0 0 0;\n",
              "    width: 32px;\n",
              "  }\n",
              "\n",
              "  .colab-df-quickchart:hover {\n",
              "    background-color: #E2EBFA;\n",
              "    box-shadow: 0px 1px 2px rgba(60, 64, 67, 0.3), 0px 1px 3px 1px rgba(60, 64, 67, 0.15);\n",
              "    fill: #174EA6;\n",
              "  }\n",
              "\n",
              "  [theme=dark] .colab-df-quickchart {\n",
              "    background-color: #3B4455;\n",
              "    fill: #D2E3FC;\n",
              "  }\n",
              "\n",
              "  [theme=dark] .colab-df-quickchart:hover {\n",
              "    background-color: #434B5C;\n",
              "    box-shadow: 0px 1px 3px 1px rgba(0, 0, 0, 0.15);\n",
              "    filter: drop-shadow(0px 1px 2px rgba(0, 0, 0, 0.3));\n",
              "    fill: #FFFFFF;\n",
              "  }\n",
              "</style>\n",
              "\n",
              "    <script>\n",
              "      async function quickchart(key) {\n",
              "        const containerElement = document.querySelector('#' + key);\n",
              "        const charts = await google.colab.kernel.invokeFunction(\n",
              "            'suggestCharts', [key], {});\n",
              "      }\n",
              "    </script>\n",
              "\n",
              "      <script>\n",
              "\n",
              "function displayQuickchartButton(domScope) {\n",
              "  let quickchartButtonEl =\n",
              "    domScope.querySelector('#df-55fa0ec9-ad96-4b90-bf23-23bbbb338781 button.colab-df-quickchart');\n",
              "  quickchartButtonEl.style.display =\n",
              "    google.colab.kernel.accessAllowed ? 'block' : 'none';\n",
              "}\n",
              "\n",
              "        displayQuickchartButton(document);\n",
              "      </script>\n",
              "      <style>\n",
              "    .colab-df-container {\n",
              "      display:flex;\n",
              "      flex-wrap:wrap;\n",
              "      gap: 12px;\n",
              "    }\n",
              "\n",
              "    .colab-df-convert {\n",
              "      background-color: #E8F0FE;\n",
              "      border: none;\n",
              "      border-radius: 50%;\n",
              "      cursor: pointer;\n",
              "      display: none;\n",
              "      fill: #1967D2;\n",
              "      height: 32px;\n",
              "      padding: 0 0 0 0;\n",
              "      width: 32px;\n",
              "    }\n",
              "\n",
              "    .colab-df-convert:hover {\n",
              "      background-color: #E2EBFA;\n",
              "      box-shadow: 0px 1px 2px rgba(60, 64, 67, 0.3), 0px 1px 3px 1px rgba(60, 64, 67, 0.15);\n",
              "      fill: #174EA6;\n",
              "    }\n",
              "\n",
              "    [theme=dark] .colab-df-convert {\n",
              "      background-color: #3B4455;\n",
              "      fill: #D2E3FC;\n",
              "    }\n",
              "\n",
              "    [theme=dark] .colab-df-convert:hover {\n",
              "      background-color: #434B5C;\n",
              "      box-shadow: 0px 1px 3px 1px rgba(0, 0, 0, 0.15);\n",
              "      filter: drop-shadow(0px 1px 2px rgba(0, 0, 0, 0.3));\n",
              "      fill: #FFFFFF;\n",
              "    }\n",
              "  </style>\n",
              "\n",
              "      <script>\n",
              "        const buttonEl =\n",
              "          document.querySelector('#df-54d079d2-251f-4bc3-a276-333e8d9dff95 button.colab-df-convert');\n",
              "        buttonEl.style.display =\n",
              "          google.colab.kernel.accessAllowed ? 'block' : 'none';\n",
              "\n",
              "        async function convertToInteractive(key) {\n",
              "          const element = document.querySelector('#df-54d079d2-251f-4bc3-a276-333e8d9dff95');\n",
              "          const dataTable =\n",
              "            await google.colab.kernel.invokeFunction('convertToInteractive',\n",
              "                                                     [key], {});\n",
              "          if (!dataTable) return;\n",
              "\n",
              "          const docLinkHtml = 'Like what you see? Visit the ' +\n",
              "            '<a target=\"_blank\" href=https://colab.research.google.com/notebooks/data_table.ipynb>data table notebook</a>'\n",
              "            + ' to learn more about interactive tables.';\n",
              "          element.innerHTML = '';\n",
              "          dataTable['output_type'] = 'display_data';\n",
              "          await google.colab.output.renderOutput(dataTable, element);\n",
              "          const docLink = document.createElement('div');\n",
              "          docLink.innerHTML = docLinkHtml;\n",
              "          element.appendChild(docLink);\n",
              "        }\n",
              "      </script>\n",
              "    </div>\n",
              "  </div>\n"
            ],
            "text/plain": [
              "                                Importance\n",
              "Sick_Leaves_Average                   0.88\n",
              "Performance_Engagement_Average        0.07\n",
              "Self_Assessment_Average               0.06\n",
              "Performance_Value_Average             0.00"
            ]
          },
          "execution_count": 35,
          "metadata": {},
          "output_type": "execute_result"
        }
      ],
      "source": [
        "#Sort the values in Descending order (Most Important -> Least Important)\n",
        "df_feature_importance.sort_values([\"Importance\"],ascending=False)"
      ]
    },
    {
      "cell_type": "code",
      "execution_count": null,
      "metadata": {
        "colab": {
          "base_uri": "https://localhost:8080/",
          "height": 603
        },
        "id": "AVGVo0QI77Ex",
        "outputId": "0a5f88d6-d9fd-41dc-e4ad-5d6a96be5322"
      },
      "outputs": [
        {
          "data": {
            "text/plain": [
              "<Axes: >"
            ]
          },
          "execution_count": 36,
          "metadata": {},
          "output_type": "execute_result"
        },
        {
          "data": {
            "image/png": "[encoded data removed]",
            "text/plain": [
              "<Figure size 3000x1000 with 1 Axes>"
            ]
          },
          "metadata": {},
          "output_type": "display_data"
        }
      ],
      "source": [
        "#Visualize importance using a plot, values should be ascending for plotting purposes\n",
        "\n",
        "#Sorted DataFrame with 10 important features\n",
        "df_feature_importance_asc = df_feature_importance.sort_values([\"Importance\"], ascending = True)[-10:]\n",
        "\n",
        "#Horizontal Bar Plot\n",
        "df_feature_importance_asc.plot(kind='barh', figsize=(30,10))"
      ]
    },
    {
      "cell_type": "markdown",
      "metadata": {
        "id": "IhOGUP0p8K0V"
      },
      "source": [
        "# Visualize Decision Tree"
      ]
    },
    {
      "cell_type": "code",
      "execution_count": null,
      "metadata": {
        "id": "xQz06d2G8No8"
      },
      "outputs": [],
      "source": [
        "#Graph Visualization Library\n",
        "import graphviz\n",
        "\n",
        "#Graphviz Exporter\n",
        "from sklearn.tree import export_graphviz\n",
        "\n",
        "#For display within the Jupyter notebook\n",
        "from IPython.display import display"
      ]
    },
    {
      "cell_type": "code",
      "execution_count": null,
      "metadata": {
        "id": "s4uoplIY8yBd"
      },
      "outputs": [],
      "source": [
        "#List of Features\n",
        "feature_col = list(x.columns)"
      ]
    },
    {
      "cell_type": "code",
      "execution_count": null,
      "metadata": {
        "colab": {
          "base_uri": "https://localhost:8080/"
        },
        "id": "vI-a8Gq287Pt",
        "outputId": "81d135d6-cd79-4d11-fec6-f4d3998160e1"
      },
      "outputs": [
        {
          "data": {
            "text/plain": [
              "['Employed', 'Terminated']"
            ]
          },
          "execution_count": 39,
          "metadata": {},
          "output_type": "execute_result"
        }
      ],
      "source": [
        "#List of Classes\n",
        "\n",
        "#Get classes\n",
        "classes = clf_best.classes_\n",
        "\n",
        "#Convert to String if number\n",
        "classes = [\"%s\" % clas for clas in classes]\n",
        "\n",
        "classes"
      ]
    },
    {
      "cell_type": "code",
      "execution_count": null,
      "metadata": {
        "id": "7jaL_2rw8P08"
      },
      "outputs": [],
      "source": [
        "dot_data = export_graphviz(clf_best, feature_names=feature_col, class_names=classes)\n",
        "\n",
        "graph = graphviz.Source(dot_data)"
      ]
    },
    {
      "cell_type": "code",
      "execution_count": null,
      "metadata": {
        "colab": {
          "base_uri": "https://localhost:8080/",
          "height": 757
        },
        "id": "zcNryQps9B-7",
        "outputId": "5806e8aa-b2c9-4a6f-e80d-804c71bcfcfc"
      },
      "outputs": [
        {
          "data": {
            "image/svg+xml": [
              "<?xml version=\"1.0\" encoding=\"UTF-8\" standalone=\"no\"?>\n",
              "<!DOCTYPE svg PUBLIC \"-//W3C//DTD SVG 1.1//EN\"\n",
              " \"http://www.w3.org/Graphics/SVG/1.1/DTD/svg11.dtd\">\n",
              "<!-- Generated by graphviz version 2.43.0 (0)\n",
              " -->\n",
              "<!-- Title: Tree Pages: 1 -->\n",
              "<svg width=\"567pt\" height=\"552pt\"\n",
              " viewBox=\"0.00 0.00 567.00 552.00\" xmlns=\"http://www.w3.org/2000/svg\" xmlns:xlink=\"http://www.w3.org/1999/xlink\">\n",
              "<g id=\"graph0\" class=\"graph\" transform=\"scale(1 1) rotate(0) translate(4 548)\">\n",
              "<title>Tree</title>\n",
              "<polygon fill=\"white\" stroke=\"transparent\" points=\"-4,4 -4,-548 563,-548 563,4 -4,4\"/>\n",
              "<!-- 0 -->\n",
              "<g id=\"node1\" class=\"node\">\n",
              "<title>0</title>\n",
              "<polygon fill=\"none\" stroke=\"black\" points=\"489.5,-544 280.5,-544 280.5,-461 489.5,-461 489.5,-544\"/>\n",
              "<text text-anchor=\"middle\" x=\"385\" y=\"-528.8\" font-family=\"Helvetica,sans-Serif\" font-size=\"14.00\">Sick_Leaves_Average &lt;= 0.125</text>\n",
              "<text text-anchor=\"middle\" x=\"385\" y=\"-513.8\" font-family=\"Helvetica,sans-Serif\" font-size=\"14.00\">gini = 0.334</text>\n",
              "<text text-anchor=\"middle\" x=\"385\" y=\"-498.8\" font-family=\"Helvetica,sans-Serif\" font-size=\"14.00\">samples = 156</text>\n",
              "<text text-anchor=\"middle\" x=\"385\" y=\"-483.8\" font-family=\"Helvetica,sans-Serif\" font-size=\"14.00\">value = [123, 33]</text>\n",
              "<text text-anchor=\"middle\" x=\"385\" y=\"-468.8\" font-family=\"Helvetica,sans-Serif\" font-size=\"14.00\">class = Employed</text>\n",
              "</g>\n",
              "<!-- 1 -->\n",
              "<g id=\"node2\" class=\"node\">\n",
              "<title>1</title>\n",
              "<polygon fill=\"none\" stroke=\"black\" points=\"416.5,-425 129.5,-425 129.5,-342 416.5,-342 416.5,-425\"/>\n",
              "<text text-anchor=\"middle\" x=\"273\" y=\"-409.8\" font-family=\"Helvetica,sans-Serif\" font-size=\"14.00\">Performance_Engagement_Average &lt;= 3.75</text>\n",
              "<text text-anchor=\"middle\" x=\"273\" y=\"-394.8\" font-family=\"Helvetica,sans-Serif\" font-size=\"14.00\">gini = 0.494</text>\n",
              "<text text-anchor=\"middle\" x=\"273\" y=\"-379.8\" font-family=\"Helvetica,sans-Serif\" font-size=\"14.00\">samples = 74</text>\n",
              "<text text-anchor=\"middle\" x=\"273\" y=\"-364.8\" font-family=\"Helvetica,sans-Serif\" font-size=\"14.00\">value = [41, 33]</text>\n",
              "<text text-anchor=\"middle\" x=\"273\" y=\"-349.8\" font-family=\"Helvetica,sans-Serif\" font-size=\"14.00\">class = Employed</text>\n",
              "</g>\n",
              "<!-- 0&#45;&gt;1 -->\n",
              "<g id=\"edge1\" class=\"edge\">\n",
              "<title>0&#45;&gt;1</title>\n",
              "<path fill=\"none\" stroke=\"black\" d=\"M346.14,-460.91C337.37,-451.74 327.97,-441.93 318.94,-432.49\"/>\n",
              "<polygon fill=\"black\" stroke=\"black\" points=\"321.23,-429.82 311.79,-425.02 316.18,-434.66 321.23,-429.82\"/>\n",
              "<text text-anchor=\"middle\" x=\"311.24\" y=\"-446.31\" font-family=\"Helvetica,sans-Serif\" font-size=\"14.00\">True</text>\n",
              "</g>\n",
              "<!-- 8 -->\n",
              "<g id=\"node9\" class=\"node\">\n",
              "<title>8</title>\n",
              "<polygon fill=\"none\" stroke=\"black\" points=\"559,-417.5 435,-417.5 435,-349.5 559,-349.5 559,-417.5\"/>\n",
              "<text text-anchor=\"middle\" x=\"497\" y=\"-402.3\" font-family=\"Helvetica,sans-Serif\" font-size=\"14.00\">gini = 0.0</text>\n",
              "<text text-anchor=\"middle\" x=\"497\" y=\"-387.3\" font-family=\"Helvetica,sans-Serif\" font-size=\"14.00\">samples = 82</text>\n",
              "<text text-anchor=\"middle\" x=\"497\" y=\"-372.3\" font-family=\"Helvetica,sans-Serif\" font-size=\"14.00\">value = [82, 0]</text>\n",
              "<text text-anchor=\"middle\" x=\"497\" y=\"-357.3\" font-family=\"Helvetica,sans-Serif\" font-size=\"14.00\">class = Employed</text>\n",
              "</g>\n",
              "<!-- 0&#45;&gt;8 -->\n",
              "<g id=\"edge8\" class=\"edge\">\n",
              "<title>0&#45;&gt;8</title>\n",
              "<path fill=\"none\" stroke=\"black\" d=\"M423.86,-460.91C434.95,-449.32 447.03,-436.7 458.12,-425.11\"/>\n",
              "<polygon fill=\"black\" stroke=\"black\" points=\"460.86,-427.31 465.25,-417.67 455.81,-422.47 460.86,-427.31\"/>\n",
              "<text text-anchor=\"middle\" x=\"465.8\" y=\"-438.96\" font-family=\"Helvetica,sans-Serif\" font-size=\"14.00\">False</text>\n",
              "</g>\n",
              "<!-- 2 -->\n",
              "<g id=\"node3\" class=\"node\">\n",
              "<title>2</title>\n",
              "<polygon fill=\"none\" stroke=\"black\" points=\"292.5,-306 55.5,-306 55.5,-223 292.5,-223 292.5,-306\"/>\n",
              "<text text-anchor=\"middle\" x=\"174\" y=\"-290.8\" font-family=\"Helvetica,sans-Serif\" font-size=\"14.00\">Self_Assessment_Average &lt;= 2.625</text>\n",
              "<text text-anchor=\"middle\" x=\"174\" y=\"-275.8\" font-family=\"Helvetica,sans-Serif\" font-size=\"14.00\">gini = 0.499</text>\n",
              "<text text-anchor=\"middle\" x=\"174\" y=\"-260.8\" font-family=\"Helvetica,sans-Serif\" font-size=\"14.00\">samples = 65</text>\n",
              "<text text-anchor=\"middle\" x=\"174\" y=\"-245.8\" font-family=\"Helvetica,sans-Serif\" font-size=\"14.00\">value = [34, 31]</text>\n",
              "<text text-anchor=\"middle\" x=\"174\" y=\"-230.8\" font-family=\"Helvetica,sans-Serif\" font-size=\"14.00\">class = Employed</text>\n",
              "</g>\n",
              "<!-- 1&#45;&gt;2 -->\n",
              "<g id=\"edge2\" class=\"edge\">\n",
              "<title>1&#45;&gt;2</title>\n",
              "<path fill=\"none\" stroke=\"black\" d=\"M238.65,-341.91C230.97,-332.83 222.76,-323.12 214.84,-313.77\"/>\n",
              "<polygon fill=\"black\" stroke=\"black\" points=\"217.42,-311.39 208.29,-306.02 212.07,-315.92 217.42,-311.39\"/>\n",
              "</g>\n",
              "<!-- 7 -->\n",
              "<g id=\"node8\" class=\"node\">\n",
              "<title>7</title>\n",
              "<polygon fill=\"none\" stroke=\"black\" points=\"435,-298.5 311,-298.5 311,-230.5 435,-230.5 435,-298.5\"/>\n",
              "<text text-anchor=\"middle\" x=\"373\" y=\"-283.3\" font-family=\"Helvetica,sans-Serif\" font-size=\"14.00\">gini = 0.346</text>\n",
              "<text text-anchor=\"middle\" x=\"373\" y=\"-268.3\" font-family=\"Helvetica,sans-Serif\" font-size=\"14.00\">samples = 9</text>\n",
              "<text text-anchor=\"middle\" x=\"373\" y=\"-253.3\" font-family=\"Helvetica,sans-Serif\" font-size=\"14.00\">value = [7, 2]</text>\n",
              "<text text-anchor=\"middle\" x=\"373\" y=\"-238.3\" font-family=\"Helvetica,sans-Serif\" font-size=\"14.00\">class = Employed</text>\n",
              "</g>\n",
              "<!-- 1&#45;&gt;7 -->\n",
              "<g id=\"edge7\" class=\"edge\">\n",
              "<title>1&#45;&gt;7</title>\n",
              "<path fill=\"none\" stroke=\"black\" d=\"M307.69,-341.91C317.5,-330.43 328.18,-317.94 338.01,-306.44\"/>\n",
              "<polygon fill=\"black\" stroke=\"black\" points=\"340.82,-308.54 344.65,-298.67 335.49,-303.99 340.82,-308.54\"/>\n",
              "</g>\n",
              "<!-- 3 -->\n",
              "<g id=\"node4\" class=\"node\">\n",
              "<title>3</title>\n",
              "<polygon fill=\"none\" stroke=\"black\" points=\"124,-179.5 0,-179.5 0,-111.5 124,-111.5 124,-179.5\"/>\n",
              "<text text-anchor=\"middle\" x=\"62\" y=\"-164.3\" font-family=\"Helvetica,sans-Serif\" font-size=\"14.00\">gini = 0.491</text>\n",
              "<text text-anchor=\"middle\" x=\"62\" y=\"-149.3\" font-family=\"Helvetica,sans-Serif\" font-size=\"14.00\">samples = 51</text>\n",
              "<text text-anchor=\"middle\" x=\"62\" y=\"-134.3\" font-family=\"Helvetica,sans-Serif\" font-size=\"14.00\">value = [29, 22]</text>\n",
              "<text text-anchor=\"middle\" x=\"62\" y=\"-119.3\" font-family=\"Helvetica,sans-Serif\" font-size=\"14.00\">class = Employed</text>\n",
              "</g>\n",
              "<!-- 2&#45;&gt;3 -->\n",
              "<g id=\"edge3\" class=\"edge\">\n",
              "<title>2&#45;&gt;3</title>\n",
              "<path fill=\"none\" stroke=\"black\" d=\"M135.14,-222.91C124.05,-211.32 111.97,-198.7 100.88,-187.11\"/>\n",
              "<polygon fill=\"black\" stroke=\"black\" points=\"103.19,-184.47 93.75,-179.67 98.14,-189.31 103.19,-184.47\"/>\n",
              "</g>\n",
              "<!-- 4 -->\n",
              "<g id=\"node5\" class=\"node\">\n",
              "<title>4</title>\n",
              "<polygon fill=\"none\" stroke=\"black\" points=\"429.5,-187 142.5,-187 142.5,-104 429.5,-104 429.5,-187\"/>\n",
              "<text text-anchor=\"middle\" x=\"286\" y=\"-171.8\" font-family=\"Helvetica,sans-Serif\" font-size=\"14.00\">Performance_Engagement_Average &lt;= 3.25</text>\n",
              "<text text-anchor=\"middle\" x=\"286\" y=\"-156.8\" font-family=\"Helvetica,sans-Serif\" font-size=\"14.00\">gini = 0.459</text>\n",
              "<text text-anchor=\"middle\" x=\"286\" y=\"-141.8\" font-family=\"Helvetica,sans-Serif\" font-size=\"14.00\">samples = 14</text>\n",
              "<text text-anchor=\"middle\" x=\"286\" y=\"-126.8\" font-family=\"Helvetica,sans-Serif\" font-size=\"14.00\">value = [5, 9]</text>\n",
              "<text text-anchor=\"middle\" x=\"286\" y=\"-111.8\" font-family=\"Helvetica,sans-Serif\" font-size=\"14.00\">class = Terminated</text>\n",
              "</g>\n",
              "<!-- 2&#45;&gt;4 -->\n",
              "<g id=\"edge4\" class=\"edge\">\n",
              "<title>2&#45;&gt;4</title>\n",
              "<path fill=\"none\" stroke=\"black\" d=\"M212.86,-222.91C221.63,-213.74 231.03,-203.93 240.06,-194.49\"/>\n",
              "<polygon fill=\"black\" stroke=\"black\" points=\"242.82,-196.66 247.21,-187.02 237.77,-191.82 242.82,-196.66\"/>\n",
              "</g>\n",
              "<!-- 5 -->\n",
              "<g id=\"node6\" class=\"node\">\n",
              "<title>5</title>\n",
              "<polygon fill=\"none\" stroke=\"black\" points=\"276.5,-68 145.5,-68 145.5,0 276.5,0 276.5,-68\"/>\n",
              "<text text-anchor=\"middle\" x=\"211\" y=\"-52.8\" font-family=\"Helvetica,sans-Serif\" font-size=\"14.00\">gini = 0.408</text>\n",
              "<text text-anchor=\"middle\" x=\"211\" y=\"-37.8\" font-family=\"Helvetica,sans-Serif\" font-size=\"14.00\">samples = 7</text>\n",
              "<text text-anchor=\"middle\" x=\"211\" y=\"-22.8\" font-family=\"Helvetica,sans-Serif\" font-size=\"14.00\">value = [2, 5]</text>\n",
              "<text text-anchor=\"middle\" x=\"211\" y=\"-7.8\" font-family=\"Helvetica,sans-Serif\" font-size=\"14.00\">class = Terminated</text>\n",
              "</g>\n",
              "<!-- 4&#45;&gt;5 -->\n",
              "<g id=\"edge5\" class=\"edge\">\n",
              "<title>4&#45;&gt;5</title>\n",
              "<path fill=\"none\" stroke=\"black\" d=\"M258.07,-103.73C252.01,-94.88 245.6,-85.51 239.51,-76.63\"/>\n",
              "<polygon fill=\"black\" stroke=\"black\" points=\"242.35,-74.57 233.81,-68.3 236.57,-78.53 242.35,-74.57\"/>\n",
              "</g>\n",
              "<!-- 6 -->\n",
              "<g id=\"node7\" class=\"node\">\n",
              "<title>6</title>\n",
              "<polygon fill=\"none\" stroke=\"black\" points=\"425.5,-68 294.5,-68 294.5,0 425.5,0 425.5,-68\"/>\n",
              "<text text-anchor=\"middle\" x=\"360\" y=\"-52.8\" font-family=\"Helvetica,sans-Serif\" font-size=\"14.00\">gini = 0.49</text>\n",
              "<text text-anchor=\"middle\" x=\"360\" y=\"-37.8\" font-family=\"Helvetica,sans-Serif\" font-size=\"14.00\">samples = 7</text>\n",
              "<text text-anchor=\"middle\" x=\"360\" y=\"-22.8\" font-family=\"Helvetica,sans-Serif\" font-size=\"14.00\">value = [3, 4]</text>\n",
              "<text text-anchor=\"middle\" x=\"360\" y=\"-7.8\" font-family=\"Helvetica,sans-Serif\" font-size=\"14.00\">class = Terminated</text>\n",
              "</g>\n",
              "<!-- 4&#45;&gt;6 -->\n",
              "<g id=\"edge6\" class=\"edge\">\n",
              "<title>4&#45;&gt;6</title>\n",
              "<path fill=\"none\" stroke=\"black\" d=\"M313.55,-103.73C319.53,-94.88 325.87,-85.51 331.87,-76.63\"/>\n",
              "<polygon fill=\"black\" stroke=\"black\" points=\"334.8,-78.54 337.5,-68.3 329,-74.63 334.8,-78.54\"/>\n",
              "</g>\n",
              "</g>\n",
              "</svg>\n"
            ],
            "text/plain": [
              "<graphviz.sources.Source at 0x78da5c030730>"
            ]
          },
          "metadata": {},
          "output_type": "display_data"
        }
      ],
      "source": [
        "display(graph)"
      ]
    },
    {
      "cell_type": "markdown",
      "metadata": {
        "id": "1ufBeLc3NlXH"
      },
      "source": [
        "# Hyper Parameter Optimization\n",
        "\n",
        "> Add blockquote\n",
        "\n"
      ]
    },
    {
      "cell_type": "code",
      "execution_count": null,
      "metadata": {
        "id": "FcVz8WjiNpcn"
      },
      "outputs": [],
      "source": [
        "#Create the parameter grid\n",
        "param_grid = {'min_samples_split':[2,4],\n",
        "                    'criterion':['gini'],\n",
        "                    'min_samples_leaf':[1,2,3,4,5]}"
      ]
    },
    {
      "cell_type": "markdown",
      "metadata": {
        "id": "Owj_1gVdOSgs"
      },
      "source": [
        "### Building Model"
      ]
    },
    {
      "cell_type": "code",
      "execution_count": null,
      "metadata": {
        "id": "IMRX6S6xOTyq"
      },
      "outputs": [],
      "source": [
        "#HyperParameter optimization functions\n",
        "from sklearn.model_selection import GridSearchCV\n",
        "\n",
        "#Instantiate the GridSearchCV function: pass the classifier, parameter grid, and number of cv folds\n",
        "grid_search = GridSearchCV(clf_best, param_grid=param_grid, cv=5, scoring=\"roc_auc\")"
      ]
    },
    {
      "cell_type": "code",
      "execution_count": null,
      "metadata": {
        "colab": {
          "base_uri": "https://localhost:8080/",
          "height": 158
        },
        "id": "DApkJeELOtie",
        "outputId": "5a8fbe74-bdf6-4926-e6f8-2fb2020fbfdf"
      },
      "outputs": [
        {
          "data": {
            "text/html": [
              "<style>#sk-container-id-3 {color: black;background-color: white;}#sk-container-id-3 pre{padding: 0;}#sk-container-id-3 div.sk-toggleable {background-color: white;}#sk-container-id-3 label.sk-toggleable__label {cursor: pointer;display: block;width: 100%;margin-bottom: 0;padding: 0.3em;box-sizing: border-box;text-align: center;}#sk-container-id-3 label.sk-toggleable__label-arrow:before {content: \"▸\";float: left;margin-right: 0.25em;color: #696969;}#sk-container-id-3 label.sk-toggleable__label-arrow:hover:before {color: black;}#sk-container-id-3 div.sk-estimator:hover label.sk-toggleable__label-arrow:before {color: black;}#sk-container-id-3 div.sk-toggleable__content {max-height: 0;max-width: 0;overflow: hidden;text-align: left;background-color: #f0f8ff;}#sk-container-id-3 div.sk-toggleable__content pre {margin: 0.2em;color: black;border-radius: 0.25em;background-color: #f0f8ff;}#sk-container-id-3 input.sk-toggleable__control:checked~div.sk-toggleable__content {max-height: 200px;max-width: 100%;overflow: auto;}#sk-container-id-3 input.sk-toggleable__control:checked~label.sk-toggleable__label-arrow:before {content: \"▾\";}#sk-container-id-3 div.sk-estimator input.sk-toggleable__control:checked~label.sk-toggleable__label {background-color: #d4ebff;}#sk-container-id-3 div.sk-label input.sk-toggleable__control:checked~label.sk-toggleable__label {background-color: #d4ebff;}#sk-container-id-3 input.sk-hidden--visually {border: 0;clip: rect(1px 1px 1px 1px);clip: rect(1px, 1px, 1px, 1px);height: 1px;margin: -1px;overflow: hidden;padding: 0;position: absolute;width: 1px;}#sk-container-id-3 div.sk-estimator {font-family: monospace;background-color: #f0f8ff;border: 1px dotted black;border-radius: 0.25em;box-sizing: border-box;margin-bottom: 0.5em;}#sk-container-id-3 div.sk-estimator:hover {background-color: #d4ebff;}#sk-container-id-3 div.sk-parallel-item::after {content: \"\";width: 100%;border-bottom: 1px solid gray;flex-grow: 1;}#sk-container-id-3 div.sk-label:hover label.sk-toggleable__label {background-color: #d4ebff;}#sk-container-id-3 div.sk-serial::before {content: \"\";position: absolute;border-left: 1px solid gray;box-sizing: border-box;top: 0;bottom: 0;left: 50%;z-index: 0;}#sk-container-id-3 div.sk-serial {display: flex;flex-direction: column;align-items: center;background-color: white;padding-right: 0.2em;padding-left: 0.2em;position: relative;}#sk-container-id-3 div.sk-item {position: relative;z-index: 1;}#sk-container-id-3 div.sk-parallel {display: flex;align-items: stretch;justify-content: center;background-color: white;position: relative;}#sk-container-id-3 div.sk-item::before, #sk-container-id-3 div.sk-parallel-item::before {content: \"\";position: absolute;border-left: 1px solid gray;box-sizing: border-box;top: 0;bottom: 0;left: 50%;z-index: -1;}#sk-container-id-3 div.sk-parallel-item {display: flex;flex-direction: column;z-index: 1;position: relative;background-color: white;}#sk-container-id-3 div.sk-parallel-item:first-child::after {align-self: flex-end;width: 50%;}#sk-container-id-3 div.sk-parallel-item:last-child::after {align-self: flex-start;width: 50%;}#sk-container-id-3 div.sk-parallel-item:only-child::after {width: 0;}#sk-container-id-3 div.sk-dashed-wrapped {border: 1px dashed gray;margin: 0 0.4em 0.5em 0.4em;box-sizing: border-box;padding-bottom: 0.4em;background-color: white;}#sk-container-id-3 div.sk-label label {font-family: monospace;font-weight: bold;display: inline-block;line-height: 1.2em;}#sk-container-id-3 div.sk-label-container {text-align: center;}#sk-container-id-3 div.sk-container {/* jupyter's `normalize.less` sets `[hidden] { display: none; }` but bootstrap.min.css set `[hidden] { display: none !important; }` so we also need the `!important` here to be able to override the default hidden behavior on the sphinx rendered scikit-learn.org. See: https://github.com/scikit-learn/scikit-learn/issues/21755 */display: inline-block !important;position: relative;}#sk-container-id-3 div.sk-text-repr-fallback {display: none;}</style><div id=\"sk-container-id-3\" class=\"sk-top-container\"><div class=\"sk-text-repr-fallback\"><pre>GridSearchCV(cv=5,\n",
              "             estimator=DecisionTreeClassifier(max_depth=10, min_samples_leaf=5,\n",
              "                                              min_samples_split=4,\n",
              "                                              random_state=30),\n",
              "             param_grid={&#x27;criterion&#x27;: [&#x27;gini&#x27;],\n",
              "                         &#x27;min_samples_leaf&#x27;: [1, 2, 3, 4, 5],\n",
              "                         &#x27;min_samples_split&#x27;: [2, 4]},\n",
              "             scoring=&#x27;roc_auc&#x27;)</pre><b>In a Jupyter environment, please rerun this cell to show the HTML representation or trust the notebook. <br />On GitHub, the HTML representation is unable to render, please try loading this page with nbviewer.org.</b></div><div class=\"sk-container\" hidden><div class=\"sk-item sk-dashed-wrapped\"><div class=\"sk-label-container\"><div class=\"sk-label sk-toggleable\"><input class=\"sk-toggleable__control sk-hidden--visually\" id=\"sk-estimator-id-5\" type=\"checkbox\" ><label for=\"sk-estimator-id-5\" class=\"sk-toggleable__label sk-toggleable__label-arrow\">GridSearchCV</label><div class=\"sk-toggleable__content\"><pre>GridSearchCV(cv=5,\n",
              "             estimator=DecisionTreeClassifier(max_depth=10, min_samples_leaf=5,\n",
              "                                              min_samples_split=4,\n",
              "                                              random_state=30),\n",
              "             param_grid={&#x27;criterion&#x27;: [&#x27;gini&#x27;],\n",
              "                         &#x27;min_samples_leaf&#x27;: [1, 2, 3, 4, 5],\n",
              "                         &#x27;min_samples_split&#x27;: [2, 4]},\n",
              "             scoring=&#x27;roc_auc&#x27;)</pre></div></div></div><div class=\"sk-parallel\"><div class=\"sk-parallel-item\"><div class=\"sk-item\"><div class=\"sk-label-container\"><div class=\"sk-label sk-toggleable\"><input class=\"sk-toggleable__control sk-hidden--visually\" id=\"sk-estimator-id-6\" type=\"checkbox\" ><label for=\"sk-estimator-id-6\" class=\"sk-toggleable__label sk-toggleable__label-arrow\">estimator: DecisionTreeClassifier</label><div class=\"sk-toggleable__content\"><pre>DecisionTreeClassifier(max_depth=10, min_samples_leaf=5, min_samples_split=4,\n",
              "                       random_state=30)</pre></div></div></div><div class=\"sk-serial\"><div class=\"sk-item\"><div class=\"sk-estimator sk-toggleable\"><input class=\"sk-toggleable__control sk-hidden--visually\" id=\"sk-estimator-id-7\" type=\"checkbox\" ><label for=\"sk-estimator-id-7\" class=\"sk-toggleable__label sk-toggleable__label-arrow\">DecisionTreeClassifier</label><div class=\"sk-toggleable__content\"><pre>DecisionTreeClassifier(max_depth=10, min_samples_leaf=5, min_samples_split=4,\n",
              "                       random_state=30)</pre></div></div></div></div></div></div></div></div></div></div>"
            ],
            "text/plain": [
              "GridSearchCV(cv=5,\n",
              "             estimator=DecisionTreeClassifier(max_depth=10, min_samples_leaf=5,\n",
              "                                              min_samples_split=4,\n",
              "                                              random_state=30),\n",
              "             param_grid={'criterion': ['gini'],\n",
              "                         'min_samples_leaf': [1, 2, 3, 4, 5],\n",
              "                         'min_samples_split': [2, 4]},\n",
              "             scoring='roc_auc')"
            ]
          },
          "execution_count": 49,
          "metadata": {},
          "output_type": "execute_result"
        }
      ],
      "source": [
        "#Fit to the X and y variables. Note that cross-validation is built into the function\n",
        "grid_search.fit(x,y)"
      ]
    },
    {
      "cell_type": "markdown",
      "metadata": {
        "id": "mSFUn67XOzrI"
      },
      "source": [
        "# Validate Best Model"
      ]
    },
    {
      "cell_type": "code",
      "execution_count": null,
      "metadata": {
        "colab": {
          "base_uri": "https://localhost:8080/"
        },
        "id": "StmROTYyO2Sf",
        "outputId": "5d90e25d-47ff-4b27-93fa-a3e908301b32"
      },
      "outputs": [
        {
          "name": "stdout",
          "output_type": "stream",
          "text": [
            "Best estimator:\n",
            "DecisionTreeClassifier(max_depth=10, min_samples_leaf=5, random_state=30)\n"
          ]
        }
      ],
      "source": [
        "#Access the Best Estimator\n",
        "print(\"Best estimator:\")\n",
        "print(grid_search.best_estimator_)"
      ]
    },
    {
      "cell_type": "code",
      "execution_count": null,
      "metadata": {
        "colab": {
          "base_uri": "https://localhost:8080/"
        },
        "id": "-qdocG-fO7al",
        "outputId": "9e2f3dc9-a019-43d7-a308-32f142425367"
      },
      "outputs": [
        {
          "name": "stdout",
          "output_type": "stream",
          "text": [
            "Best parameters:\n",
            "{'criterion': 'gini', 'min_samples_leaf': 5, 'min_samples_split': 2}\n"
          ]
        }
      ],
      "source": [
        "#Access the Best Parameters\n",
        "print(\"Best parameters:\")\n",
        "print(grid_search.best_params_)"
      ]
    },
    {
      "cell_type": "code",
      "execution_count": null,
      "metadata": {
        "colab": {
          "base_uri": "https://localhost:8080/"
        },
        "id": "6QjKZhlLPpqK",
        "outputId": "480285cc-41bb-4183-9862-984973d5f34c"
      },
      "outputs": [
        {
          "name": "stdout",
          "output_type": "stream",
          "text": [
            "Best score: 83.15\n"
          ]
        }
      ],
      "source": [
        "#Check the ROC_AUC for the Best Model\n",
        "\n",
        "best_score = grid_search.best_score_\n",
        "\n",
        "print(\"Best score: %.2f\" % (best_score * 100))"
      ]
    },
    {
      "cell_type": "markdown",
      "metadata": {
        "id": "sMBN39qhP5OL"
      },
      "source": [
        "### Get table of results for all runs"
      ]
    },
    {
      "cell_type": "code",
      "execution_count": null,
      "metadata": {
        "id": "AfsVsrogP8FQ"
      },
      "outputs": [],
      "source": [
        "#Returns Dictionary with information of models built with different parameters\n",
        "all_results = grid_search.cv_results_\n",
        "\n",
        "#Put into DataFrame for easy viewing\n",
        "all_results_df = pd.DataFrame(all_results)"
      ]
    },
    {
      "cell_type": "code",
      "execution_count": null,
      "metadata": {
        "colab": {
          "base_uri": "https://localhost:8080/",
          "height": 444
        },
        "id": "AWsoiaiqP_mh",
        "outputId": "26a04093-77a4-4227-ec4f-12615d88c723"
      },
      "outputs": [
        {
          "data": {
            "text/html": [
              "\n",
              "\n",
              "  <div id=\"df-13756e07-fefb-4f56-962a-824c72ffd75a\">\n",
              "    <div class=\"colab-df-container\">\n",
              "      <div>\n",
              "<style scoped>\n",
              "    .dataframe tbody tr th:only-of-type {\n",
              "        vertical-align: middle;\n",
              "    }\n",
              "\n",
              "    .dataframe tbody tr th {\n",
              "        vertical-align: top;\n",
              "    }\n",
              "\n",
              "    .dataframe thead th {\n",
              "        text-align: right;\n",
              "    }\n",
              "</style>\n",
              "<table border=\"1\" class=\"dataframe\">\n",
              "  <thead>\n",
              "    <tr style=\"text-align: right;\">\n",
              "      <th></th>\n",
              "      <th>mean_fit_time</th>\n",
              "      <th>std_fit_time</th>\n",
              "      <th>mean_score_time</th>\n",
              "      <th>std_score_time</th>\n",
              "      <th>param_criterion</th>\n",
              "      <th>param_min_samples_leaf</th>\n",
              "      <th>param_min_samples_split</th>\n",
              "      <th>params</th>\n",
              "      <th>split0_test_score</th>\n",
              "      <th>split1_test_score</th>\n",
              "      <th>split2_test_score</th>\n",
              "      <th>split3_test_score</th>\n",
              "      <th>split4_test_score</th>\n",
              "      <th>mean_test_score</th>\n",
              "      <th>std_test_score</th>\n",
              "      <th>rank_test_score</th>\n",
              "    </tr>\n",
              "  </thead>\n",
              "  <tbody>\n",
              "    <tr>\n",
              "      <th>0</th>\n",
              "      <td>0.00</td>\n",
              "      <td>0.00</td>\n",
              "      <td>0.00</td>\n",
              "      <td>0.00</td>\n",
              "      <td>gini</td>\n",
              "      <td>1</td>\n",
              "      <td>2</td>\n",
              "      <td>{'criterion': 'gini', 'min_samples_leaf': 1, '...</td>\n",
              "      <td>0.90</td>\n",
              "      <td>0.77</td>\n",
              "      <td>0.89</td>\n",
              "      <td>0.84</td>\n",
              "      <td>0.41</td>\n",
              "      <td>0.76</td>\n",
              "      <td>0.18</td>\n",
              "      <td>10</td>\n",
              "    </tr>\n",
              "    <tr>\n",
              "      <th>1</th>\n",
              "      <td>0.00</td>\n",
              "      <td>0.00</td>\n",
              "      <td>0.00</td>\n",
              "      <td>0.00</td>\n",
              "      <td>gini</td>\n",
              "      <td>1</td>\n",
              "      <td>4</td>\n",
              "      <td>{'criterion': 'gini', 'min_samples_leaf': 1, '...</td>\n",
              "      <td>0.90</td>\n",
              "      <td>0.84</td>\n",
              "      <td>0.90</td>\n",
              "      <td>0.84</td>\n",
              "      <td>0.41</td>\n",
              "      <td>0.78</td>\n",
              "      <td>0.19</td>\n",
              "      <td>9</td>\n",
              "    </tr>\n",
              "    <tr>\n",
              "      <th>2</th>\n",
              "      <td>0.00</td>\n",
              "      <td>0.00</td>\n",
              "      <td>0.00</td>\n",
              "      <td>0.00</td>\n",
              "      <td>gini</td>\n",
              "      <td>2</td>\n",
              "      <td>2</td>\n",
              "      <td>{'criterion': 'gini', 'min_samples_leaf': 2, '...</td>\n",
              "      <td>0.92</td>\n",
              "      <td>0.85</td>\n",
              "      <td>0.90</td>\n",
              "      <td>0.90</td>\n",
              "      <td>0.41</td>\n",
              "      <td>0.79</td>\n",
              "      <td>0.19</td>\n",
              "      <td>5</td>\n",
              "    </tr>\n",
              "    <tr>\n",
              "      <th>3</th>\n",
              "      <td>0.00</td>\n",
              "      <td>0.00</td>\n",
              "      <td>0.00</td>\n",
              "      <td>0.00</td>\n",
              "      <td>gini</td>\n",
              "      <td>2</td>\n",
              "      <td>4</td>\n",
              "      <td>{'criterion': 'gini', 'min_samples_leaf': 2, '...</td>\n",
              "      <td>0.92</td>\n",
              "      <td>0.85</td>\n",
              "      <td>0.90</td>\n",
              "      <td>0.90</td>\n",
              "      <td>0.41</td>\n",
              "      <td>0.79</td>\n",
              "      <td>0.19</td>\n",
              "      <td>5</td>\n",
              "    </tr>\n",
              "    <tr>\n",
              "      <th>4</th>\n",
              "      <td>0.00</td>\n",
              "      <td>0.00</td>\n",
              "      <td>0.00</td>\n",
              "      <td>0.00</td>\n",
              "      <td>gini</td>\n",
              "      <td>3</td>\n",
              "      <td>2</td>\n",
              "      <td>{'criterion': 'gini', 'min_samples_leaf': 3, '...</td>\n",
              "      <td>0.99</td>\n",
              "      <td>0.75</td>\n",
              "      <td>0.89</td>\n",
              "      <td>0.90</td>\n",
              "      <td>0.41</td>\n",
              "      <td>0.79</td>\n",
              "      <td>0.20</td>\n",
              "      <td>7</td>\n",
              "    </tr>\n",
              "  </tbody>\n",
              "</table>\n",
              "</div>\n",
              "      <button class=\"colab-df-convert\" onclick=\"convertToInteractive('df-13756e07-fefb-4f56-962a-824c72ffd75a')\"\n",
              "              title=\"Convert this dataframe to an interactive table.\"\n",
              "              style=\"display:none;\">\n",
              "\n",
              "  <svg xmlns=\"http://www.w3.org/2000/svg\" height=\"24px\"viewBox=\"0 0 24 24\"\n",
              "       width=\"24px\">\n",
              "    <path d=\"M0 0h24v24H0V0z\" fill=\"none\"/>\n",
              "    <path d=\"M18.56 5.44l.94 2.06.94-2.06 2.06-.94-2.06-.94-.94-2.06-.94 2.06-2.06.94zm-11 1L8.5 8.5l.94-2.06 2.06-.94-2.06-.94L8.5 2.5l-.94 2.06-2.06.94zm10 10l.94 2.06.94-2.06 2.06-.94-2.06-.94-.94-2.06-.94 2.06-2.06.94z\"/><path d=\"M17.41 7.96l-1.37-1.37c-.4-.4-.92-.59-1.43-.59-.52 0-1.04.2-1.43.59L10.3 9.45l-7.72 7.72c-.78.78-.78 2.05 0 2.83L4 21.41c.39.39.9.59 1.41.59.51 0 1.02-.2 1.41-.59l7.78-7.78 2.81-2.81c.8-.78.8-2.07 0-2.86zM5.41 20L4 18.59l7.72-7.72 1.47 1.35L5.41 20z\"/>\n",
              "  </svg>\n",
              "      </button>\n",
              "\n",
              "\n",
              "\n",
              "    <div id=\"df-e24adb09-88df-4409-b2e4-36f64a797bdc\">\n",
              "      <button class=\"colab-df-quickchart\" onclick=\"quickchart('df-e24adb09-88df-4409-b2e4-36f64a797bdc')\"\n",
              "              title=\"Suggest charts.\"\n",
              "              style=\"display:none;\">\n",
              "\n",
              "<svg xmlns=\"http://www.w3.org/2000/svg\" height=\"24px\"viewBox=\"0 0 24 24\"\n",
              "     width=\"24px\">\n",
              "    <g>\n",
              "        <path d=\"M19 3H5c-1.1 0-2 .9-2 2v14c0 1.1.9 2 2 2h14c1.1 0 2-.9 2-2V5c0-1.1-.9-2-2-2zM9 17H7v-7h2v7zm4 0h-2V7h2v10zm4 0h-2v-4h2v4z\"/>\n",
              "    </g>\n",
              "</svg>\n",
              "      </button>\n",
              "    </div>\n",
              "\n",
              "<style>\n",
              "  .colab-df-quickchart {\n",
              "    background-color: #E8F0FE;\n",
              "    border: none;\n",
              "    border-radius: 50%;\n",
              "    cursor: pointer;\n",
              "    display: none;\n",
              "    fill: #1967D2;\n",
              "    height: 32px;\n",
              "    padding: 0 0 0 0;\n",
              "    width: 32px;\n",
              "  }\n",
              "\n",
              "  .colab-df-quickchart:hover {\n",
              "    background-color: #E2EBFA;\n",
              "    box-shadow: 0px 1px 2px rgba(60, 64, 67, 0.3), 0px 1px 3px 1px rgba(60, 64, 67, 0.15);\n",
              "    fill: #174EA6;\n",
              "  }\n",
              "\n",
              "  [theme=dark] .colab-df-quickchart {\n",
              "    background-color: #3B4455;\n",
              "    fill: #D2E3FC;\n",
              "  }\n",
              "\n",
              "  [theme=dark] .colab-df-quickchart:hover {\n",
              "    background-color: #434B5C;\n",
              "    box-shadow: 0px 1px 3px 1px rgba(0, 0, 0, 0.15);\n",
              "    filter: drop-shadow(0px 1px 2px rgba(0, 0, 0, 0.3));\n",
              "    fill: #FFFFFF;\n",
              "  }\n",
              "</style>\n",
              "\n",
              "    <script>\n",
              "      async function quickchart(key) {\n",
              "        const containerElement = document.querySelector('#' + key);\n",
              "        const charts = await google.colab.kernel.invokeFunction(\n",
              "            'suggestCharts', [key], {});\n",
              "      }\n",
              "    </script>\n",
              "\n",
              "      <script>\n",
              "\n",
              "function displayQuickchartButton(domScope) {\n",
              "  let quickchartButtonEl =\n",
              "    domScope.querySelector('#df-e24adb09-88df-4409-b2e4-36f64a797bdc button.colab-df-quickchart');\n",
              "  quickchartButtonEl.style.display =\n",
              "    google.colab.kernel.accessAllowed ? 'block' : 'none';\n",
              "}\n",
              "\n",
              "        displayQuickchartButton(document);\n",
              "      </script>\n",
              "      <style>\n",
              "    .colab-df-container {\n",
              "      display:flex;\n",
              "      flex-wrap:wrap;\n",
              "      gap: 12px;\n",
              "    }\n",
              "\n",
              "    .colab-df-convert {\n",
              "      background-color: #E8F0FE;\n",
              "      border: none;\n",
              "      border-radius: 50%;\n",
              "      cursor: pointer;\n",
              "      display: none;\n",
              "      fill: #1967D2;\n",
              "      height: 32px;\n",
              "      padding: 0 0 0 0;\n",
              "      width: 32px;\n",
              "    }\n",
              "\n",
              "    .colab-df-convert:hover {\n",
              "      background-color: #E2EBFA;\n",
              "      box-shadow: 0px 1px 2px rgba(60, 64, 67, 0.3), 0px 1px 3px 1px rgba(60, 64, 67, 0.15);\n",
              "      fill: #174EA6;\n",
              "    }\n",
              "\n",
              "    [theme=dark] .colab-df-convert {\n",
              "      background-color: #3B4455;\n",
              "      fill: #D2E3FC;\n",
              "    }\n",
              "\n",
              "    [theme=dark] .colab-df-convert:hover {\n",
              "      background-color: #434B5C;\n",
              "      box-shadow: 0px 1px 3px 1px rgba(0, 0, 0, 0.15);\n",
              "      filter: drop-shadow(0px 1px 2px rgba(0, 0, 0, 0.3));\n",
              "      fill: #FFFFFF;\n",
              "    }\n",
              "  </style>\n",
              "\n",
              "      <script>\n",
              "        const buttonEl =\n",
              "          document.querySelector('#df-13756e07-fefb-4f56-962a-824c72ffd75a button.colab-df-convert');\n",
              "        buttonEl.style.display =\n",
              "          google.colab.kernel.accessAllowed ? 'block' : 'none';\n",
              "\n",
              "        async function convertToInteractive(key) {\n",
              "          const element = document.querySelector('#df-13756e07-fefb-4f56-962a-824c72ffd75a');\n",
              "          const dataTable =\n",
              "            await google.colab.kernel.invokeFunction('convertToInteractive',\n",
              "                                                     [key], {});\n",
              "          if (!dataTable) return;\n",
              "\n",
              "          const docLinkHtml = 'Like what you see? Visit the ' +\n",
              "            '<a target=\"_blank\" href=https://colab.research.google.com/notebooks/data_table.ipynb>data table notebook</a>'\n",
              "            + ' to learn more about interactive tables.';\n",
              "          element.innerHTML = '';\n",
              "          dataTable['output_type'] = 'display_data';\n",
              "          await google.colab.output.renderOutput(dataTable, element);\n",
              "          const docLink = document.createElement('div');\n",
              "          docLink.innerHTML = docLinkHtml;\n",
              "          element.appendChild(docLink);\n",
              "        }\n",
              "      </script>\n",
              "    </div>\n",
              "  </div>\n"
            ],
            "text/plain": [
              "   mean_fit_time  std_fit_time  mean_score_time  std_score_time  \\\n",
              "0           0.00          0.00             0.00            0.00   \n",
              "1           0.00          0.00             0.00            0.00   \n",
              "2           0.00          0.00             0.00            0.00   \n",
              "3           0.00          0.00             0.00            0.00   \n",
              "4           0.00          0.00             0.00            0.00   \n",
              "\n",
              "  param_criterion param_min_samples_leaf param_min_samples_split  \\\n",
              "0            gini                      1                       2   \n",
              "1            gini                      1                       4   \n",
              "2            gini                      2                       2   \n",
              "3            gini                      2                       4   \n",
              "4            gini                      3                       2   \n",
              "\n",
              "                                              params  split0_test_score  \\\n",
              "0  {'criterion': 'gini', 'min_samples_leaf': 1, '...               0.90   \n",
              "1  {'criterion': 'gini', 'min_samples_leaf': 1, '...               0.90   \n",
              "2  {'criterion': 'gini', 'min_samples_leaf': 2, '...               0.92   \n",
              "3  {'criterion': 'gini', 'min_samples_leaf': 2, '...               0.92   \n",
              "4  {'criterion': 'gini', 'min_samples_leaf': 3, '...               0.99   \n",
              "\n",
              "   split1_test_score  split2_test_score  split3_test_score  split4_test_score  \\\n",
              "0               0.77               0.89               0.84               0.41   \n",
              "1               0.84               0.90               0.84               0.41   \n",
              "2               0.85               0.90               0.90               0.41   \n",
              "3               0.85               0.90               0.90               0.41   \n",
              "4               0.75               0.89               0.90               0.41   \n",
              "\n",
              "   mean_test_score  std_test_score  rank_test_score  \n",
              "0             0.76            0.18               10  \n",
              "1             0.78            0.19                9  \n",
              "2             0.79            0.19                5  \n",
              "3             0.79            0.19                5  \n",
              "4             0.79            0.20                7  "
            ]
          },
          "execution_count": 55,
          "metadata": {},
          "output_type": "execute_result"
        }
      ],
      "source": [
        "#View the resulting table\n",
        "all_results_df.head(5)"
      ]
    },
    {
      "cell_type": "code",
      "execution_count": null,
      "metadata": {
        "colab": {
          "base_uri": "https://localhost:8080/",
          "height": 312
        },
        "id": "yQX3LD51QDje",
        "outputId": "9786dbd9-e56c-4622-f7fd-be8b81ee4af2"
      },
      "outputs": [
        {
          "data": {
            "text/html": [
              "\n",
              "\n",
              "  <div id=\"df-7bf9da23-e620-465e-96ed-9f7266c1cbde\">\n",
              "    <div class=\"colab-df-container\">\n",
              "      <div>\n",
              "<style scoped>\n",
              "    .dataframe tbody tr th:only-of-type {\n",
              "        vertical-align: middle;\n",
              "    }\n",
              "\n",
              "    .dataframe tbody tr th {\n",
              "        vertical-align: top;\n",
              "    }\n",
              "\n",
              "    .dataframe thead th {\n",
              "        text-align: right;\n",
              "    }\n",
              "</style>\n",
              "<table border=\"1\" class=\"dataframe\">\n",
              "  <thead>\n",
              "    <tr style=\"text-align: right;\">\n",
              "      <th></th>\n",
              "      <th>mean_fit_time</th>\n",
              "      <th>std_fit_time</th>\n",
              "      <th>mean_score_time</th>\n",
              "      <th>std_score_time</th>\n",
              "      <th>param_criterion</th>\n",
              "      <th>param_min_samples_leaf</th>\n",
              "      <th>param_min_samples_split</th>\n",
              "      <th>params</th>\n",
              "      <th>split0_test_score</th>\n",
              "      <th>split1_test_score</th>\n",
              "      <th>split2_test_score</th>\n",
              "      <th>split3_test_score</th>\n",
              "      <th>split4_test_score</th>\n",
              "      <th>mean_test_score</th>\n",
              "      <th>std_test_score</th>\n",
              "      <th>rank_test_score</th>\n",
              "    </tr>\n",
              "  </thead>\n",
              "  <tbody>\n",
              "    <tr>\n",
              "      <th>8</th>\n",
              "      <td>0.00</td>\n",
              "      <td>0.00</td>\n",
              "      <td>0.00</td>\n",
              "      <td>0.00</td>\n",
              "      <td>gini</td>\n",
              "      <td>5</td>\n",
              "      <td>2</td>\n",
              "      <td>{'criterion': 'gini', 'min_samples_leaf': 5, '...</td>\n",
              "      <td>0.99</td>\n",
              "      <td>0.77</td>\n",
              "      <td>0.97</td>\n",
              "      <td>0.87</td>\n",
              "      <td>0.55</td>\n",
              "      <td>0.83</td>\n",
              "      <td>0.16</td>\n",
              "      <td>1</td>\n",
              "    </tr>\n",
              "    <tr>\n",
              "      <th>9</th>\n",
              "      <td>0.00</td>\n",
              "      <td>0.00</td>\n",
              "      <td>0.00</td>\n",
              "      <td>0.00</td>\n",
              "      <td>gini</td>\n",
              "      <td>5</td>\n",
              "      <td>4</td>\n",
              "      <td>{'criterion': 'gini', 'min_samples_leaf': 5, '...</td>\n",
              "      <td>0.99</td>\n",
              "      <td>0.77</td>\n",
              "      <td>0.97</td>\n",
              "      <td>0.87</td>\n",
              "      <td>0.55</td>\n",
              "      <td>0.83</td>\n",
              "      <td>0.16</td>\n",
              "      <td>1</td>\n",
              "    </tr>\n",
              "    <tr>\n",
              "      <th>6</th>\n",
              "      <td>0.00</td>\n",
              "      <td>0.00</td>\n",
              "      <td>0.00</td>\n",
              "      <td>0.00</td>\n",
              "      <td>gini</td>\n",
              "      <td>4</td>\n",
              "      <td>2</td>\n",
              "      <td>{'criterion': 'gini', 'min_samples_leaf': 4, '...</td>\n",
              "      <td>0.99</td>\n",
              "      <td>0.75</td>\n",
              "      <td>0.97</td>\n",
              "      <td>0.87</td>\n",
              "      <td>0.41</td>\n",
              "      <td>0.80</td>\n",
              "      <td>0.21</td>\n",
              "      <td>3</td>\n",
              "    </tr>\n",
              "  </tbody>\n",
              "</table>\n",
              "</div>\n",
              "      <button class=\"colab-df-convert\" onclick=\"convertToInteractive('df-7bf9da23-e620-465e-96ed-9f7266c1cbde')\"\n",
              "              title=\"Convert this dataframe to an interactive table.\"\n",
              "              style=\"display:none;\">\n",
              "\n",
              "  <svg xmlns=\"http://www.w3.org/2000/svg\" height=\"24px\"viewBox=\"0 0 24 24\"\n",
              "       width=\"24px\">\n",
              "    <path d=\"M0 0h24v24H0V0z\" fill=\"none\"/>\n",
              "    <path d=\"M18.56 5.44l.94 2.06.94-2.06 2.06-.94-2.06-.94-.94-2.06-.94 2.06-2.06.94zm-11 1L8.5 8.5l.94-2.06 2.06-.94-2.06-.94L8.5 2.5l-.94 2.06-2.06.94zm10 10l.94 2.06.94-2.06 2.06-.94-2.06-.94-.94-2.06-.94 2.06-2.06.94z\"/><path d=\"M17.41 7.96l-1.37-1.37c-.4-.4-.92-.59-1.43-.59-.52 0-1.04.2-1.43.59L10.3 9.45l-7.72 7.72c-.78.78-.78 2.05 0 2.83L4 21.41c.39.39.9.59 1.41.59.51 0 1.02-.2 1.41-.59l7.78-7.78 2.81-2.81c.8-.78.8-2.07 0-2.86zM5.41 20L4 18.59l7.72-7.72 1.47 1.35L5.41 20z\"/>\n",
              "  </svg>\n",
              "      </button>\n",
              "\n",
              "\n",
              "\n",
              "    <div id=\"df-96e60dda-b718-4408-af4c-4e3114baab25\">\n",
              "      <button class=\"colab-df-quickchart\" onclick=\"quickchart('df-96e60dda-b718-4408-af4c-4e3114baab25')\"\n",
              "              title=\"Suggest charts.\"\n",
              "              style=\"display:none;\">\n",
              "\n",
              "<svg xmlns=\"http://www.w3.org/2000/svg\" height=\"24px\"viewBox=\"0 0 24 24\"\n",
              "     width=\"24px\">\n",
              "    <g>\n",
              "        <path d=\"M19 3H5c-1.1 0-2 .9-2 2v14c0 1.1.9 2 2 2h14c1.1 0 2-.9 2-2V5c0-1.1-.9-2-2-2zM9 17H7v-7h2v7zm4 0h-2V7h2v10zm4 0h-2v-4h2v4z\"/>\n",
              "    </g>\n",
              "</svg>\n",
              "      </button>\n",
              "    </div>\n",
              "\n",
              "<style>\n",
              "  .colab-df-quickchart {\n",
              "    background-color: #E8F0FE;\n",
              "    border: none;\n",
              "    border-radius: 50%;\n",
              "    cursor: pointer;\n",
              "    display: none;\n",
              "    fill: #1967D2;\n",
              "    height: 32px;\n",
              "    padding: 0 0 0 0;\n",
              "    width: 32px;\n",
              "  }\n",
              "\n",
              "  .colab-df-quickchart:hover {\n",
              "    background-color: #E2EBFA;\n",
              "    box-shadow: 0px 1px 2px rgba(60, 64, 67, 0.3), 0px 1px 3px 1px rgba(60, 64, 67, 0.15);\n",
              "    fill: #174EA6;\n",
              "  }\n",
              "\n",
              "  [theme=dark] .colab-df-quickchart {\n",
              "    background-color: #3B4455;\n",
              "    fill: #D2E3FC;\n",
              "  }\n",
              "\n",
              "  [theme=dark] .colab-df-quickchart:hover {\n",
              "    background-color: #434B5C;\n",
              "    box-shadow: 0px 1px 3px 1px rgba(0, 0, 0, 0.15);\n",
              "    filter: drop-shadow(0px 1px 2px rgba(0, 0, 0, 0.3));\n",
              "    fill: #FFFFFF;\n",
              "  }\n",
              "</style>\n",
              "\n",
              "    <script>\n",
              "      async function quickchart(key) {\n",
              "        const containerElement = document.querySelector('#' + key);\n",
              "        const charts = await google.colab.kernel.invokeFunction(\n",
              "            'suggestCharts', [key], {});\n",
              "      }\n",
              "    </script>\n",
              "\n",
              "      <script>\n",
              "\n",
              "function displayQuickchartButton(domScope) {\n",
              "  let quickchartButtonEl =\n",
              "    domScope.querySelector('#df-96e60dda-b718-4408-af4c-4e3114baab25 button.colab-df-quickchart');\n",
              "  quickchartButtonEl.style.display =\n",
              "    google.colab.kernel.accessAllowed ? 'block' : 'none';\n",
              "}\n",
              "\n",
              "        displayQuickchartButton(document);\n",
              "      </script>\n",
              "      <style>\n",
              "    .colab-df-container {\n",
              "      display:flex;\n",
              "      flex-wrap:wrap;\n",
              "      gap: 12px;\n",
              "    }\n",
              "\n",
              "    .colab-df-convert {\n",
              "      background-color: #E8F0FE;\n",
              "      border: none;\n",
              "      border-radius: 50%;\n",
              "      cursor: pointer;\n",
              "      display: none;\n",
              "      fill: #1967D2;\n",
              "      height: 32px;\n",
              "      padding: 0 0 0 0;\n",
              "      width: 32px;\n",
              "    }\n",
              "\n",
              "    .colab-df-convert:hover {\n",
              "      background-color: #E2EBFA;\n",
              "      box-shadow: 0px 1px 2px rgba(60, 64, 67, 0.3), 0px 1px 3px 1px rgba(60, 64, 67, 0.15);\n",
              "      fill: #174EA6;\n",
              "    }\n",
              "\n",
              "    [theme=dark] .colab-df-convert {\n",
              "      background-color: #3B4455;\n",
              "      fill: #D2E3FC;\n",
              "    }\n",
              "\n",
              "    [theme=dark] .colab-df-convert:hover {\n",
              "      background-color: #434B5C;\n",
              "      box-shadow: 0px 1px 3px 1px rgba(0, 0, 0, 0.15);\n",
              "      filter: drop-shadow(0px 1px 2px rgba(0, 0, 0, 0.3));\n",
              "      fill: #FFFFFF;\n",
              "    }\n",
              "  </style>\n",
              "\n",
              "      <script>\n",
              "        const buttonEl =\n",
              "          document.querySelector('#df-7bf9da23-e620-465e-96ed-9f7266c1cbde button.colab-df-convert');\n",
              "        buttonEl.style.display =\n",
              "          google.colab.kernel.accessAllowed ? 'block' : 'none';\n",
              "\n",
              "        async function convertToInteractive(key) {\n",
              "          const element = document.querySelector('#df-7bf9da23-e620-465e-96ed-9f7266c1cbde');\n",
              "          const dataTable =\n",
              "            await google.colab.kernel.invokeFunction('convertToInteractive',\n",
              "                                                     [key], {});\n",
              "          if (!dataTable) return;\n",
              "\n",
              "          const docLinkHtml = 'Like what you see? Visit the ' +\n",
              "            '<a target=\"_blank\" href=https://colab.research.google.com/notebooks/data_table.ipynb>data table notebook</a>'\n",
              "            + ' to learn more about interactive tables.';\n",
              "          element.innerHTML = '';\n",
              "          dataTable['output_type'] = 'display_data';\n",
              "          await google.colab.output.renderOutput(dataTable, element);\n",
              "          const docLink = document.createElement('div');\n",
              "          docLink.innerHTML = docLinkHtml;\n",
              "          element.appendChild(docLink);\n",
              "        }\n",
              "      </script>\n",
              "    </div>\n",
              "  </div>\n"
            ],
            "text/plain": [
              "   mean_fit_time  std_fit_time  mean_score_time  std_score_time  \\\n",
              "8           0.00          0.00             0.00            0.00   \n",
              "9           0.00          0.00             0.00            0.00   \n",
              "6           0.00          0.00             0.00            0.00   \n",
              "\n",
              "  param_criterion param_min_samples_leaf param_min_samples_split  \\\n",
              "8            gini                      5                       2   \n",
              "9            gini                      5                       4   \n",
              "6            gini                      4                       2   \n",
              "\n",
              "                                              params  split0_test_score  \\\n",
              "8  {'criterion': 'gini', 'min_samples_leaf': 5, '...               0.99   \n",
              "9  {'criterion': 'gini', 'min_samples_leaf': 5, '...               0.99   \n",
              "6  {'criterion': 'gini', 'min_samples_leaf': 4, '...               0.99   \n",
              "\n",
              "   split1_test_score  split2_test_score  split3_test_score  split4_test_score  \\\n",
              "8               0.77               0.97               0.87               0.55   \n",
              "9               0.77               0.97               0.87               0.55   \n",
              "6               0.75               0.97               0.87               0.41   \n",
              "\n",
              "   mean_test_score  std_test_score  rank_test_score  \n",
              "8             0.83            0.16                1  \n",
              "9             0.83            0.16                1  \n",
              "6             0.80            0.21                3  "
            ]
          },
          "execution_count": 56,
          "metadata": {},
          "output_type": "execute_result"
        }
      ],
      "source": [
        "#Sort by \"Rank Test Score\" to view best models in order\n",
        "all_results_df.sort_values(\"rank_test_score\").head(3)"
      ]
    }
  ],
  "metadata": {
    "colab": {
      "provenance": []
    },
    "kernelspec": {
      "display_name": "base",
      "language": "python",
      "name": "python3"
    },
    "language_info": {
      "codemirror_mode": {
        "name": "ipython",
        "version": 3
      },
      "file_extension": ".py",
      "mimetype": "text/x-python",
      "name": "python",
      "nbconvert_exporter": "python",
      "pygments_lexer": "ipython3",
      "version": "3.12.7"
    }
  },
  "nbformat": 4,
  "nbformat_minor": 0
}
